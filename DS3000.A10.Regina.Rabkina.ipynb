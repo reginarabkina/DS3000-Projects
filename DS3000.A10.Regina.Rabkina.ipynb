{
 "cells": [
  {
   "cell_type": "markdown",
   "metadata": {},
   "source": [
    "# DS 3000 - Assignment 10\n",
    "**Student Name**: Regina Rabkina\n",
    "\n",
    "**Date**: 11/12/23"
   ]
  },
  {
   "cell_type": "markdown",
   "metadata": {},
   "source": [
    "## Part 1: \n",
    "\n",
    "Build a machine learning model to predict tip amount using the NYC Green Taxi Trip Records data for February 2020. Here is a link to the accompanying data dictionary. \n",
    "\n",
    "Data Source: https://d37ci6vzurychx.cloudfront.net/trip-data/green_tripdata_2020-02.parquet"
   ]
  },
  {
   "cell_type": "markdown",
   "metadata": {},
   "source": [
    "1) load the data directly from the URL into a DataFrame."
   ]
  },
  {
   "cell_type": "code",
   "execution_count": 1,
   "metadata": {},
   "outputs": [
    {
     "name": "stdout",
     "output_type": "stream",
     "text": [
      "Requirement already satisfied: fastparquet in /Users/reginarabkina/anaconda3/lib/python3.11/site-packages (2023.8.0)\n",
      "Requirement already satisfied: pandas>=1.5.0 in /Users/reginarabkina/anaconda3/lib/python3.11/site-packages (from fastparquet) (1.5.3)\n",
      "Requirement already satisfied: numpy>=1.20.3 in /Users/reginarabkina/anaconda3/lib/python3.11/site-packages (from fastparquet) (1.24.3)\n",
      "Requirement already satisfied: cramjam>=2.3 in /Users/reginarabkina/anaconda3/lib/python3.11/site-packages (from fastparquet) (2.7.0)\n",
      "Requirement already satisfied: fsspec in /Users/reginarabkina/anaconda3/lib/python3.11/site-packages (from fastparquet) (2023.4.0)\n",
      "Requirement already satisfied: packaging in /Users/reginarabkina/anaconda3/lib/python3.11/site-packages (from fastparquet) (23.0)\n",
      "Requirement already satisfied: python-dateutil>=2.8.1 in /Users/reginarabkina/anaconda3/lib/python3.11/site-packages (from pandas>=1.5.0->fastparquet) (2.8.2)\n",
      "Requirement already satisfied: pytz>=2020.1 in /Users/reginarabkina/anaconda3/lib/python3.11/site-packages (from pandas>=1.5.0->fastparquet) (2022.7)\n",
      "Requirement already satisfied: six>=1.5 in /Users/reginarabkina/anaconda3/lib/python3.11/site-packages (from python-dateutil>=2.8.1->pandas>=1.5.0->fastparquet) (1.16.0)\n"
     ]
    },
    {
     "data": {
      "text/html": [
       "<div>\n",
       "<style scoped>\n",
       "    .dataframe tbody tr th:only-of-type {\n",
       "        vertical-align: middle;\n",
       "    }\n",
       "\n",
       "    .dataframe tbody tr th {\n",
       "        vertical-align: top;\n",
       "    }\n",
       "\n",
       "    .dataframe thead th {\n",
       "        text-align: right;\n",
       "    }\n",
       "</style>\n",
       "<table border=\"1\" class=\"dataframe\">\n",
       "  <thead>\n",
       "    <tr style=\"text-align: right;\">\n",
       "      <th></th>\n",
       "      <th>VendorID</th>\n",
       "      <th>lpep_pickup_datetime</th>\n",
       "      <th>lpep_dropoff_datetime</th>\n",
       "      <th>store_and_fwd_flag</th>\n",
       "      <th>RatecodeID</th>\n",
       "      <th>PULocationID</th>\n",
       "      <th>DOLocationID</th>\n",
       "      <th>passenger_count</th>\n",
       "      <th>trip_distance</th>\n",
       "      <th>fare_amount</th>\n",
       "      <th>extra</th>\n",
       "      <th>mta_tax</th>\n",
       "      <th>tip_amount</th>\n",
       "      <th>tolls_amount</th>\n",
       "      <th>ehail_fee</th>\n",
       "      <th>improvement_surcharge</th>\n",
       "      <th>total_amount</th>\n",
       "      <th>payment_type</th>\n",
       "      <th>trip_type</th>\n",
       "      <th>congestion_surcharge</th>\n",
       "    </tr>\n",
       "  </thead>\n",
       "  <tbody>\n",
       "    <tr>\n",
       "      <th>0</th>\n",
       "      <td>2</td>\n",
       "      <td>2020-02-01 00:10:25</td>\n",
       "      <td>2020-02-01 00:14:34</td>\n",
       "      <td>N</td>\n",
       "      <td>1.0</td>\n",
       "      <td>74</td>\n",
       "      <td>41</td>\n",
       "      <td>1.0</td>\n",
       "      <td>0.76</td>\n",
       "      <td>4.50</td>\n",
       "      <td>0.50</td>\n",
       "      <td>0.5</td>\n",
       "      <td>0.00</td>\n",
       "      <td>0.00</td>\n",
       "      <td>NaN</td>\n",
       "      <td>0.3</td>\n",
       "      <td>5.80</td>\n",
       "      <td>2.0</td>\n",
       "      <td>1.0</td>\n",
       "      <td>0.0</td>\n",
       "    </tr>\n",
       "    <tr>\n",
       "      <th>1</th>\n",
       "      <td>2</td>\n",
       "      <td>2020-02-01 00:16:59</td>\n",
       "      <td>2020-02-01 00:21:35</td>\n",
       "      <td>N</td>\n",
       "      <td>1.0</td>\n",
       "      <td>74</td>\n",
       "      <td>74</td>\n",
       "      <td>1.0</td>\n",
       "      <td>0.72</td>\n",
       "      <td>5.00</td>\n",
       "      <td>0.50</td>\n",
       "      <td>0.5</td>\n",
       "      <td>0.00</td>\n",
       "      <td>0.00</td>\n",
       "      <td>NaN</td>\n",
       "      <td>0.3</td>\n",
       "      <td>6.30</td>\n",
       "      <td>1.0</td>\n",
       "      <td>1.0</td>\n",
       "      <td>0.0</td>\n",
       "    </tr>\n",
       "    <tr>\n",
       "      <th>2</th>\n",
       "      <td>2</td>\n",
       "      <td>2020-02-01 00:19:31</td>\n",
       "      <td>2020-02-01 00:25:29</td>\n",
       "      <td>N</td>\n",
       "      <td>1.0</td>\n",
       "      <td>223</td>\n",
       "      <td>7</td>\n",
       "      <td>1.0</td>\n",
       "      <td>0.89</td>\n",
       "      <td>6.00</td>\n",
       "      <td>0.50</td>\n",
       "      <td>0.5</td>\n",
       "      <td>1.82</td>\n",
       "      <td>0.00</td>\n",
       "      <td>NaN</td>\n",
       "      <td>0.3</td>\n",
       "      <td>9.12</td>\n",
       "      <td>1.0</td>\n",
       "      <td>1.0</td>\n",
       "      <td>0.0</td>\n",
       "    </tr>\n",
       "    <tr>\n",
       "      <th>3</th>\n",
       "      <td>2</td>\n",
       "      <td>2020-02-01 00:43:52</td>\n",
       "      <td>2020-02-01 00:48:58</td>\n",
       "      <td>N</td>\n",
       "      <td>1.0</td>\n",
       "      <td>145</td>\n",
       "      <td>145</td>\n",
       "      <td>1.0</td>\n",
       "      <td>1.12</td>\n",
       "      <td>6.00</td>\n",
       "      <td>0.50</td>\n",
       "      <td>0.5</td>\n",
       "      <td>0.00</td>\n",
       "      <td>0.00</td>\n",
       "      <td>NaN</td>\n",
       "      <td>0.3</td>\n",
       "      <td>7.30</td>\n",
       "      <td>2.0</td>\n",
       "      <td>1.0</td>\n",
       "      <td>0.0</td>\n",
       "    </tr>\n",
       "    <tr>\n",
       "      <th>4</th>\n",
       "      <td>2</td>\n",
       "      <td>2020-02-01 00:32:53</td>\n",
       "      <td>2020-02-01 00:35:19</td>\n",
       "      <td>N</td>\n",
       "      <td>1.0</td>\n",
       "      <td>166</td>\n",
       "      <td>166</td>\n",
       "      <td>1.0</td>\n",
       "      <td>0.65</td>\n",
       "      <td>4.00</td>\n",
       "      <td>0.50</td>\n",
       "      <td>0.5</td>\n",
       "      <td>1.06</td>\n",
       "      <td>0.00</td>\n",
       "      <td>NaN</td>\n",
       "      <td>0.3</td>\n",
       "      <td>6.36</td>\n",
       "      <td>1.0</td>\n",
       "      <td>1.0</td>\n",
       "      <td>0.0</td>\n",
       "    </tr>\n",
       "    <tr>\n",
       "      <th>...</th>\n",
       "      <td>...</td>\n",
       "      <td>...</td>\n",
       "      <td>...</td>\n",
       "      <td>...</td>\n",
       "      <td>...</td>\n",
       "      <td>...</td>\n",
       "      <td>...</td>\n",
       "      <td>...</td>\n",
       "      <td>...</td>\n",
       "      <td>...</td>\n",
       "      <td>...</td>\n",
       "      <td>...</td>\n",
       "      <td>...</td>\n",
       "      <td>...</td>\n",
       "      <td>...</td>\n",
       "      <td>...</td>\n",
       "      <td>...</td>\n",
       "      <td>...</td>\n",
       "      <td>...</td>\n",
       "      <td>...</td>\n",
       "    </tr>\n",
       "    <tr>\n",
       "      <th>398627</th>\n",
       "      <td>2</td>\n",
       "      <td>2020-02-29 23:51:00</td>\n",
       "      <td>2020-03-01 00:17:00</td>\n",
       "      <td>None</td>\n",
       "      <td>NaN</td>\n",
       "      <td>203</td>\n",
       "      <td>177</td>\n",
       "      <td>NaN</td>\n",
       "      <td>9.98</td>\n",
       "      <td>43.45</td>\n",
       "      <td>2.75</td>\n",
       "      <td>0.0</td>\n",
       "      <td>0.00</td>\n",
       "      <td>0.00</td>\n",
       "      <td>NaN</td>\n",
       "      <td>0.3</td>\n",
       "      <td>46.50</td>\n",
       "      <td>NaN</td>\n",
       "      <td>NaN</td>\n",
       "      <td>NaN</td>\n",
       "    </tr>\n",
       "    <tr>\n",
       "      <th>398628</th>\n",
       "      <td>2</td>\n",
       "      <td>2020-02-29 23:07:00</td>\n",
       "      <td>2020-02-29 23:20:00</td>\n",
       "      <td>None</td>\n",
       "      <td>NaN</td>\n",
       "      <td>91</td>\n",
       "      <td>71</td>\n",
       "      <td>NaN</td>\n",
       "      <td>2.48</td>\n",
       "      <td>17.94</td>\n",
       "      <td>2.75</td>\n",
       "      <td>0.0</td>\n",
       "      <td>0.00</td>\n",
       "      <td>0.00</td>\n",
       "      <td>NaN</td>\n",
       "      <td>0.3</td>\n",
       "      <td>20.99</td>\n",
       "      <td>NaN</td>\n",
       "      <td>NaN</td>\n",
       "      <td>NaN</td>\n",
       "    </tr>\n",
       "    <tr>\n",
       "      <th>398629</th>\n",
       "      <td>2</td>\n",
       "      <td>2020-02-29 23:48:00</td>\n",
       "      <td>2020-02-29 23:57:00</td>\n",
       "      <td>None</td>\n",
       "      <td>NaN</td>\n",
       "      <td>35</td>\n",
       "      <td>61</td>\n",
       "      <td>NaN</td>\n",
       "      <td>2.08</td>\n",
       "      <td>13.98</td>\n",
       "      <td>5.50</td>\n",
       "      <td>0.0</td>\n",
       "      <td>0.00</td>\n",
       "      <td>0.00</td>\n",
       "      <td>NaN</td>\n",
       "      <td>0.3</td>\n",
       "      <td>19.78</td>\n",
       "      <td>NaN</td>\n",
       "      <td>NaN</td>\n",
       "      <td>NaN</td>\n",
       "    </tr>\n",
       "    <tr>\n",
       "      <th>398630</th>\n",
       "      <td>2</td>\n",
       "      <td>2020-02-29 23:05:00</td>\n",
       "      <td>2020-02-29 23:33:00</td>\n",
       "      <td>None</td>\n",
       "      <td>NaN</td>\n",
       "      <td>157</td>\n",
       "      <td>217</td>\n",
       "      <td>NaN</td>\n",
       "      <td>4.20</td>\n",
       "      <td>31.05</td>\n",
       "      <td>2.75</td>\n",
       "      <td>0.0</td>\n",
       "      <td>0.00</td>\n",
       "      <td>0.00</td>\n",
       "      <td>NaN</td>\n",
       "      <td>0.3</td>\n",
       "      <td>34.10</td>\n",
       "      <td>NaN</td>\n",
       "      <td>NaN</td>\n",
       "      <td>NaN</td>\n",
       "    </tr>\n",
       "    <tr>\n",
       "      <th>398631</th>\n",
       "      <td>2</td>\n",
       "      <td>2020-02-29 23:42:00</td>\n",
       "      <td>2020-03-01 00:33:00</td>\n",
       "      <td>None</td>\n",
       "      <td>NaN</td>\n",
       "      <td>167</td>\n",
       "      <td>61</td>\n",
       "      <td>NaN</td>\n",
       "      <td>14.76</td>\n",
       "      <td>66.33</td>\n",
       "      <td>2.75</td>\n",
       "      <td>0.5</td>\n",
       "      <td>0.00</td>\n",
       "      <td>6.12</td>\n",
       "      <td>NaN</td>\n",
       "      <td>0.3</td>\n",
       "      <td>76.00</td>\n",
       "      <td>NaN</td>\n",
       "      <td>NaN</td>\n",
       "      <td>NaN</td>\n",
       "    </tr>\n",
       "  </tbody>\n",
       "</table>\n",
       "<p>398632 rows × 20 columns</p>\n",
       "</div>"
      ],
      "text/plain": [
       "        VendorID lpep_pickup_datetime lpep_dropoff_datetime  \\\n",
       "0              2  2020-02-01 00:10:25   2020-02-01 00:14:34   \n",
       "1              2  2020-02-01 00:16:59   2020-02-01 00:21:35   \n",
       "2              2  2020-02-01 00:19:31   2020-02-01 00:25:29   \n",
       "3              2  2020-02-01 00:43:52   2020-02-01 00:48:58   \n",
       "4              2  2020-02-01 00:32:53   2020-02-01 00:35:19   \n",
       "...          ...                  ...                   ...   \n",
       "398627         2  2020-02-29 23:51:00   2020-03-01 00:17:00   \n",
       "398628         2  2020-02-29 23:07:00   2020-02-29 23:20:00   \n",
       "398629         2  2020-02-29 23:48:00   2020-02-29 23:57:00   \n",
       "398630         2  2020-02-29 23:05:00   2020-02-29 23:33:00   \n",
       "398631         2  2020-02-29 23:42:00   2020-03-01 00:33:00   \n",
       "\n",
       "       store_and_fwd_flag  RatecodeID  PULocationID  DOLocationID  \\\n",
       "0                       N         1.0            74            41   \n",
       "1                       N         1.0            74            74   \n",
       "2                       N         1.0           223             7   \n",
       "3                       N         1.0           145           145   \n",
       "4                       N         1.0           166           166   \n",
       "...                   ...         ...           ...           ...   \n",
       "398627               None         NaN           203           177   \n",
       "398628               None         NaN            91            71   \n",
       "398629               None         NaN            35            61   \n",
       "398630               None         NaN           157           217   \n",
       "398631               None         NaN           167            61   \n",
       "\n",
       "        passenger_count  trip_distance  fare_amount  extra  mta_tax  \\\n",
       "0                   1.0           0.76         4.50   0.50      0.5   \n",
       "1                   1.0           0.72         5.00   0.50      0.5   \n",
       "2                   1.0           0.89         6.00   0.50      0.5   \n",
       "3                   1.0           1.12         6.00   0.50      0.5   \n",
       "4                   1.0           0.65         4.00   0.50      0.5   \n",
       "...                 ...            ...          ...    ...      ...   \n",
       "398627              NaN           9.98        43.45   2.75      0.0   \n",
       "398628              NaN           2.48        17.94   2.75      0.0   \n",
       "398629              NaN           2.08        13.98   5.50      0.0   \n",
       "398630              NaN           4.20        31.05   2.75      0.0   \n",
       "398631              NaN          14.76        66.33   2.75      0.5   \n",
       "\n",
       "        tip_amount  tolls_amount  ehail_fee  improvement_surcharge  \\\n",
       "0             0.00          0.00        NaN                    0.3   \n",
       "1             0.00          0.00        NaN                    0.3   \n",
       "2             1.82          0.00        NaN                    0.3   \n",
       "3             0.00          0.00        NaN                    0.3   \n",
       "4             1.06          0.00        NaN                    0.3   \n",
       "...            ...           ...        ...                    ...   \n",
       "398627        0.00          0.00        NaN                    0.3   \n",
       "398628        0.00          0.00        NaN                    0.3   \n",
       "398629        0.00          0.00        NaN                    0.3   \n",
       "398630        0.00          0.00        NaN                    0.3   \n",
       "398631        0.00          6.12        NaN                    0.3   \n",
       "\n",
       "        total_amount  payment_type  trip_type  congestion_surcharge  \n",
       "0               5.80           2.0        1.0                   0.0  \n",
       "1               6.30           1.0        1.0                   0.0  \n",
       "2               9.12           1.0        1.0                   0.0  \n",
       "3               7.30           2.0        1.0                   0.0  \n",
       "4               6.36           1.0        1.0                   0.0  \n",
       "...              ...           ...        ...                   ...  \n",
       "398627         46.50           NaN        NaN                   NaN  \n",
       "398628         20.99           NaN        NaN                   NaN  \n",
       "398629         19.78           NaN        NaN                   NaN  \n",
       "398630         34.10           NaN        NaN                   NaN  \n",
       "398631         76.00           NaN        NaN                   NaN  \n",
       "\n",
       "[398632 rows x 20 columns]"
      ]
     },
     "execution_count": 1,
     "metadata": {},
     "output_type": "execute_result"
    }
   ],
   "source": [
    "#run this cell to install the fast parquet library\n",
    "!pip install fastparquet\n",
    "\n",
    "#Import libraries\n",
    "import pandas as pd\n",
    "import numpy as np\n",
    "import seaborn as sns\n",
    "import matplotlib.pyplot as plt\n",
    "from sklearn.ensemble import RandomForestClassifier\n",
    "from sklearn.model_selection import train_test_split\n",
    "from sklearn.metrics import classification_report\n",
    "from sklearn.ensemble import RandomForestRegressor\n",
    "from sklearn.metrics import mean_squared_error, mean_absolute_error, r2_score\n",
    "from sklearn.model_selection import GridSearchCV\n",
    "\n",
    "#load the data into a dataframe\n",
    "tripdata_df = pd.read_parquet(path = 'https://d37ci6vzurychx.cloudfront.net/trip-data/green_tripdata_2020-02.parquet', #provide the URL to the data source\n",
    "                      engine = 'fastparquet')\n",
    "tripdata_df"
   ]
  },
  {
   "cell_type": "markdown",
   "metadata": {},
   "source": [
    "## Part 2: \n",
    "Data preparation steps, EDA and visualizations."
   ]
  },
  {
   "cell_type": "code",
   "execution_count": 2,
   "metadata": {},
   "outputs": [
    {
     "name": "stdout",
     "output_type": "stream",
     "text": [
      "There are 398632 rows and 20 columns in this data set.\n",
      "<class 'pandas.core.frame.DataFrame'>\n",
      "RangeIndex: 398632 entries, 0 to 398631\n",
      "Data columns (total 20 columns):\n",
      " #   Column                 Non-Null Count   Dtype         \n",
      "---  ------                 --------------   -----         \n",
      " 0   VendorID               398632 non-null  int64         \n",
      " 1   lpep_pickup_datetime   398632 non-null  datetime64[ns]\n",
      " 2   lpep_dropoff_datetime  398632 non-null  datetime64[ns]\n",
      " 3   store_and_fwd_flag     317739 non-null  object        \n",
      " 4   RatecodeID             317739 non-null  float64       \n",
      " 5   PULocationID           398632 non-null  int64         \n",
      " 6   DOLocationID           398632 non-null  int64         \n",
      " 7   passenger_count        317739 non-null  float64       \n",
      " 8   trip_distance          398632 non-null  float64       \n",
      " 9   fare_amount            398632 non-null  float64       \n",
      " 10  extra                  398632 non-null  float64       \n",
      " 11  mta_tax                398632 non-null  float64       \n",
      " 12  tip_amount             398632 non-null  float64       \n",
      " 13  tolls_amount           398632 non-null  float64       \n",
      " 14  ehail_fee              0 non-null       float64       \n",
      " 15  improvement_surcharge  398632 non-null  float64       \n",
      " 16  total_amount           398632 non-null  float64       \n",
      " 17  payment_type           317739 non-null  float64       \n",
      " 18  trip_type              317738 non-null  float64       \n",
      " 19  congestion_surcharge   317739 non-null  float64       \n",
      "dtypes: datetime64[ns](2), float64(14), int64(3), object(1)\n",
      "memory usage: 60.8+ MB\n"
     ]
    }
   ],
   "source": [
    "#Inspect the dimensions\n",
    "print(\"There are {} rows and {} columns in this data set.\".format(tripdata_df.shape[0], tripdata_df.shape[1]))\n",
    "\n",
    "#view samples of the data\n",
    "tripdata_df.head()\n",
    "\n",
    "#view information about the data\n",
    "tripdata_df.info()"
   ]
  },
  {
   "cell_type": "markdown",
   "metadata": {},
   "source": [
    "\n",
    "1) In the February 2020 NYC Green Taxi Trip Records data, there are 398632 rows and 20 columns.\n",
    "\n",
    "2) \n",
    "- Certain variables do not have suitable types. \"passenger_count\" is type float, when it should be type int, since you would typically display population as a whole number, as opposed to a decimal (you shouldn't have a fraction of a person).\n",
    "- \"store_and_fwd_flag\" is listed as an object, when it should probably be listed as a string. The flag values depicted in the data dictionary, \"Y\" and \"N\", can be stored as strings since they are single-character indicators for whether it was a store and forward trip or not.\n",
    "- \"payment_type\" is listed as a float, meanwhile it should be type int, as it is a numeric code ranging from whole numbers 1 to 6.\n",
    "- \"RatecodeID\" is listed as a float, meanwhile it should be type int, as it is a numeric code ranging from whole numbers 1 to 6.\n",
    "- \"trip_type\" is listed as a float, meanwhile it should be type int, as it is a numeric code indicating whether the trip was a street-hail (1) or a dispatch (2)."
   ]
  },
  {
   "cell_type": "code",
   "execution_count": 3,
   "metadata": {},
   "outputs": [
    {
     "data": {
      "text/plain": [
       "VendorID                      0\n",
       "lpep_pickup_datetime          0\n",
       "lpep_dropoff_datetime         0\n",
       "store_and_fwd_flag        80893\n",
       "RatecodeID                80893\n",
       "PULocationID                  0\n",
       "DOLocationID                  0\n",
       "passenger_count           80893\n",
       "trip_distance                 0\n",
       "fare_amount                   0\n",
       "extra                         0\n",
       "mta_tax                       0\n",
       "tip_amount                    0\n",
       "tolls_amount                  0\n",
       "ehail_fee                398632\n",
       "improvement_surcharge         0\n",
       "total_amount                  0\n",
       "payment_type              80893\n",
       "trip_type                 80894\n",
       "congestion_surcharge      80893\n",
       "dtype: int64"
      ]
     },
     "execution_count": 3,
     "metadata": {},
     "output_type": "execute_result"
    }
   ],
   "source": [
    "#check the frequency of null values in each column \n",
    "tripdata_df.isnull().sum()"
   ]
  },
  {
   "cell_type": "code",
   "execution_count": 4,
   "metadata": {},
   "outputs": [
    {
     "data": {
      "text/plain": [
       "398631    7\n",
       "344706    7\n",
       "344699    7\n",
       "344700    7\n",
       "344701    7\n",
       "         ..\n",
       "132875    1\n",
       "132874    1\n",
       "132873    1\n",
       "132872    1\n",
       "199316    1\n",
       "Length: 398632, dtype: int64"
      ]
     },
     "execution_count": 4,
     "metadata": {},
     "output_type": "execute_result"
    }
   ],
   "source": [
    "#count the frequency of missing values in each row\n",
    "tripdata_df.isnull().sum(axis=1).sort_values(ascending = False)"
   ]
  },
  {
   "cell_type": "markdown",
   "metadata": {},
   "source": [
    "The missing values are not isolated cases but are rather widespread, as they affect multiple columns in the dataset.\n",
    "\n",
    "One column in particular, \"ehail_fee\", is empty throughout the entire data set (since there are 398632 entries, and this column is missing 398632 values). I would recommend deleting this column entirely, as all of its values are missing and may not provide any meaningful information.\n",
    "\n",
    "There also seems to be about 80893 rows that are missing 7 column values (including ehail_fee), while it is not 50% of the data missing, it is a significant amount missing to repair, and the rows should be removed instead."
   ]
  },
  {
   "cell_type": "code",
   "execution_count": 5,
   "metadata": {},
   "outputs": [
    {
     "data": {
      "text/plain": [
       " 0.3    388804\n",
       " 0.0      8701\n",
       "-0.3      1127\n",
       "Name: improvement_surcharge, dtype: int64"
      ]
     },
     "execution_count": 5,
     "metadata": {},
     "output_type": "execute_result"
    }
   ],
   "source": [
    "tripdata_df['improvement_surcharge'].value_counts(dropna=False)"
   ]
  },
  {
   "cell_type": "markdown",
   "metadata": {},
   "source": [
    "There is one isolated case of missing values in this column, so the missing values can be imputed with the most common value (0.3)."
   ]
  },
  {
   "cell_type": "markdown",
   "metadata": {},
   "source": [
    "### Questionable Values"
   ]
  },
  {
   "cell_type": "code",
   "execution_count": 6,
   "metadata": {},
   "outputs": [
    {
     "data": {
      "text/plain": [
       "2    345899\n",
       "1     52704\n",
       "6        29\n",
       "Name: VendorID, dtype: int64"
      ]
     },
     "execution_count": 6,
     "metadata": {},
     "output_type": "execute_result"
    }
   ],
   "source": [
    "tripdata_df['VendorID'].value_counts(dropna=False)"
   ]
  },
  {
   "cell_type": "markdown",
   "metadata": {},
   "source": [
    "There are some values in the VendorID column that are not defined in the data dictionary (invalid value)."
   ]
  },
  {
   "cell_type": "code",
   "execution_count": 7,
   "metadata": {},
   "outputs": [
    {
     "data": {
      "text/plain": [
       " 0.50    320898\n",
       " 0.00     76663\n",
       "-0.50      1070\n",
       " 3.55         1\n",
       "Name: mta_tax, dtype: int64"
      ]
     },
     "execution_count": 7,
     "metadata": {},
     "output_type": "execute_result"
    }
   ],
   "source": [
    "tripdata_df['mta_tax'].value_counts(dropna=False)"
   ]
  },
  {
   "cell_type": "code",
   "execution_count": 8,
   "metadata": {},
   "outputs": [
    {
     "data": {
      "text/plain": [
       " 0.00     167861\n",
       " 0.50      82457\n",
       " 2.75      78612\n",
       " 1.00      61106\n",
       " 5.50       3878\n",
       " 3.25       1980\n",
       " 3.75       1751\n",
       "-0.50        356\n",
       " 8.25        276\n",
       "-1.00        197\n",
       " 4.50        125\n",
       " 0.63          5\n",
       "-4.50          3\n",
       " 0.80          2\n",
       " 0.68          1\n",
       " 1.02          1\n",
       " 1.46          1\n",
       " 1.25          1\n",
       " 1.11          1\n",
       " 1.20          1\n",
       " 2.94          1\n",
       " 1.22          1\n",
       " 0.86          1\n",
       " 2.22          1\n",
       " 0.76          1\n",
       " 1.80          1\n",
       " 1.08          1\n",
       " 1.03          1\n",
       " 2.03          1\n",
       " 1.07          1\n",
       " 2.52          1\n",
       " 16.74         1\n",
       " 1.81          1\n",
       " 8.23          1\n",
       " 2.20          1\n",
       " 14.26         1\n",
       " 0.66          1\n",
       "Name: extra, dtype: int64"
      ]
     },
     "execution_count": 8,
     "metadata": {},
     "output_type": "execute_result"
    }
   ],
   "source": [
    "tripdata_df['extra'].value_counts(dropna=False)"
   ]
  },
  {
   "cell_type": "markdown",
   "metadata": {},
   "source": [
    "### Data Preparation:\n",
    "#### Missing/Null Values"
   ]
  },
  {
   "cell_type": "code",
   "execution_count": 9,
   "metadata": {},
   "outputs": [
    {
     "data": {
      "text/plain": [
       "(398632, 19)"
      ]
     },
     "execution_count": 9,
     "metadata": {},
     "output_type": "execute_result"
    }
   ],
   "source": [
    "#handle missing data -- deletion\n",
    "# remove the entirely null column\n",
    "tripdata_df = tripdata_df.drop(['ehail_fee'], axis=1)\n",
    "tripdata_df.shape"
   ]
  },
  {
   "cell_type": "markdown",
   "metadata": {},
   "source": [
    "Remove rows with 6 or more vissing values"
   ]
  },
  {
   "cell_type": "code",
   "execution_count": 10,
   "metadata": {},
   "outputs": [
    {
     "data": {
      "text/plain": [
       "(317739, 19)"
      ]
     },
     "execution_count": 10,
     "metadata": {},
     "output_type": "execute_result"
    }
   ],
   "source": [
    "tripdata_df = tripdata_df[tripdata_df.isnull().sum(axis=1) < 6]\n",
    "tripdata_df.shape"
   ]
  },
  {
   "cell_type": "markdown",
   "metadata": {},
   "source": [
    "Perform imputation on improvement_surcharge missing values"
   ]
  },
  {
   "cell_type": "code",
   "execution_count": 11,
   "metadata": {},
   "outputs": [
    {
     "data": {
      "text/plain": [
       " 0.3    314074\n",
       " 0.0      2549\n",
       "-0.3      1116\n",
       "Name: improvement_surcharge, dtype: int64"
      ]
     },
     "execution_count": 11,
     "metadata": {},
     "output_type": "execute_result"
    }
   ],
   "source": [
    "tripdata_df[tripdata_df['improvement_surcharge'].isna()] = 0.30\n",
    "tripdata_df['improvement_surcharge'].value_counts(dropna=False)"
   ]
  },
  {
   "cell_type": "code",
   "execution_count": 12,
   "metadata": {},
   "outputs": [],
   "source": [
    "tripdata_df = tripdata_df.dropna(subset = ['trip_type'])"
   ]
  },
  {
   "cell_type": "code",
   "execution_count": 13,
   "metadata": {},
   "outputs": [
    {
     "data": {
      "text/plain": [
       "VendorID                 0\n",
       "lpep_pickup_datetime     0\n",
       "lpep_dropoff_datetime    0\n",
       "store_and_fwd_flag       0\n",
       "RatecodeID               0\n",
       "PULocationID             0\n",
       "DOLocationID             0\n",
       "passenger_count          0\n",
       "trip_distance            0\n",
       "fare_amount              0\n",
       "extra                    0\n",
       "mta_tax                  0\n",
       "tip_amount               0\n",
       "tolls_amount             0\n",
       "improvement_surcharge    0\n",
       "total_amount             0\n",
       "payment_type             0\n",
       "trip_type                0\n",
       "congestion_surcharge     0\n",
       "dtype: int64"
      ]
     },
     "execution_count": 13,
     "metadata": {},
     "output_type": "execute_result"
    }
   ],
   "source": [
    "tripdata_df.isna().sum()"
   ]
  },
  {
   "cell_type": "markdown",
   "metadata": {},
   "source": [
    "### Convert to Suitable Variable Types"
   ]
  },
  {
   "cell_type": "code",
   "execution_count": 14,
   "metadata": {},
   "outputs": [
    {
     "name": "stdout",
     "output_type": "stream",
     "text": [
      "<class 'pandas.core.frame.DataFrame'>\n",
      "Int64Index: 317738 entries, 0 to 317738\n",
      "Data columns (total 19 columns):\n",
      " #   Column                 Non-Null Count   Dtype  \n",
      "---  ------                 --------------   -----  \n",
      " 0   VendorID               317738 non-null  float64\n",
      " 1   lpep_pickup_datetime   317738 non-null  object \n",
      " 2   lpep_dropoff_datetime  317738 non-null  object \n",
      " 3   store_and_fwd_flag     317738 non-null  object \n",
      " 4   RatecodeID             317738 non-null  float64\n",
      " 5   PULocationID           317738 non-null  float64\n",
      " 6   DOLocationID           317738 non-null  float64\n",
      " 7   passenger_count        317738 non-null  float64\n",
      " 8   trip_distance          317738 non-null  float64\n",
      " 9   fare_amount            317738 non-null  float64\n",
      " 10  extra                  317738 non-null  float64\n",
      " 11  mta_tax                317738 non-null  float64\n",
      " 12  tip_amount             317738 non-null  float64\n",
      " 13  tolls_amount           317738 non-null  float64\n",
      " 14  improvement_surcharge  317738 non-null  float64\n",
      " 15  total_amount           317738 non-null  float64\n",
      " 16  payment_type           317738 non-null  float64\n",
      " 17  trip_type              317738 non-null  float64\n",
      " 18  congestion_surcharge   317738 non-null  float64\n",
      "dtypes: float64(16), object(3)\n",
      "memory usage: 48.5+ MB\n"
     ]
    }
   ],
   "source": [
    "tripdata_df.info()"
   ]
  },
  {
   "cell_type": "code",
   "execution_count": 15,
   "metadata": {},
   "outputs": [],
   "source": [
    "tripdata_df['RatecodeID'] = tripdata_df['RatecodeID'].astype(int)\n",
    "tripdata_df['VendorID'] = tripdata_df['VendorID'].astype(int)\n",
    "tripdata_df['passenger_count'] = tripdata_df['passenger_count'].astype(int)\n",
    "tripdata_df['payment_type'] = tripdata_df['payment_type'].astype(int)\n",
    "tripdata_df['trip_type'] = tripdata_df['trip_type'].astype(int)\n",
    "tripdata_df[\"store_and_fwd_flag\"] = tripdata_df[\"store_and_fwd_flag\"].astype(\"string\")"
   ]
  },
  {
   "cell_type": "code",
   "execution_count": 16,
   "metadata": {},
   "outputs": [
    {
     "name": "stdout",
     "output_type": "stream",
     "text": [
      "<class 'pandas.core.frame.DataFrame'>\n",
      "Int64Index: 317738 entries, 0 to 317738\n",
      "Data columns (total 19 columns):\n",
      " #   Column                 Non-Null Count   Dtype  \n",
      "---  ------                 --------------   -----  \n",
      " 0   VendorID               317738 non-null  int64  \n",
      " 1   lpep_pickup_datetime   317738 non-null  object \n",
      " 2   lpep_dropoff_datetime  317738 non-null  object \n",
      " 3   store_and_fwd_flag     317738 non-null  string \n",
      " 4   RatecodeID             317738 non-null  int64  \n",
      " 5   PULocationID           317738 non-null  float64\n",
      " 6   DOLocationID           317738 non-null  float64\n",
      " 7   passenger_count        317738 non-null  int64  \n",
      " 8   trip_distance          317738 non-null  float64\n",
      " 9   fare_amount            317738 non-null  float64\n",
      " 10  extra                  317738 non-null  float64\n",
      " 11  mta_tax                317738 non-null  float64\n",
      " 12  tip_amount             317738 non-null  float64\n",
      " 13  tolls_amount           317738 non-null  float64\n",
      " 14  improvement_surcharge  317738 non-null  float64\n",
      " 15  total_amount           317738 non-null  float64\n",
      " 16  payment_type           317738 non-null  int64  \n",
      " 17  trip_type              317738 non-null  int64  \n",
      " 18  congestion_surcharge   317738 non-null  float64\n",
      "dtypes: float64(11), int64(5), object(2), string(1)\n",
      "memory usage: 48.5+ MB\n"
     ]
    }
   ],
   "source": [
    "tripdata_df.info()"
   ]
  },
  {
   "cell_type": "markdown",
   "metadata": {},
   "source": [
    "### Handling negative values"
   ]
  },
  {
   "cell_type": "code",
   "execution_count": 17,
   "metadata": {},
   "outputs": [
    {
     "data": {
      "image/png": "[encoded data removed]",
      "text/plain": [
       "<Figure size 640x480 with 1 Axes>"
      ]
     },
     "metadata": {},
     "output_type": "display_data"
    }
   ],
   "source": [
    "sns.histplot(tripdata_df['fare_amount'], bins=20, kde=True)\n",
    "plt.title('Histogram of Fare Amount (Pre-Cleaning)')\n",
    "plt.xlabel('Fare Amount')\n",
    "plt.ylabel('Frequency')\n",
    "plt.show()"
   ]
  },
  {
   "cell_type": "code",
   "execution_count": 18,
   "metadata": {},
   "outputs": [
    {
     "name": "stdout",
     "output_type": "stream",
     "text": [
      "Number of negative tip amounts: 22\n",
      "Number of negative fare amounts: 1121\n",
      "Number of negative extra amounts: 556\n"
     ]
    }
   ],
   "source": [
    "# count how many negative values are in dataset to see if any trends exist\n",
    "negative_tip_count = (tripdata_df['tip_amount'] < 0).sum()\n",
    "print(f'Number of negative tip amounts: {negative_tip_count}')\n",
    "\n",
    "negative_fare_count = (tripdata_df['fare_amount'] < 0).sum()\n",
    "print(f'Number of negative fare amounts: {negative_fare_count}')\n",
    "\n",
    "negative_extra_count = (tripdata_df['extra'] < 0).sum()\n",
    "print(f'Number of negative extra amounts: {negative_extra_count}')"
   ]
  },
  {
   "cell_type": "markdown",
   "metadata": {},
   "source": [
    "Since there are 317738 entries and only a very small fraction of them are negative values:"
   ]
  },
  {
   "cell_type": "code",
   "execution_count": 19,
   "metadata": {},
   "outputs": [],
   "source": [
    "#replacing any negative values\n",
    "tripdata_df.loc[tripdata_df[\"fare_amount\"] < 0, \"fare_amount\"] = 0\n",
    "tripdata_df.loc[tripdata_df[\"improvement_surcharge\"] < 0, \"improvement_surcharge\"] = 0.3\n",
    "tripdata_df.loc[tripdata_df[\"total_amount\"] < 0, \"total_amount\"] = 0\n",
    "tripdata_df.loc[tripdata_df[\"tip_amount\"] < 0, \"tip_amount\"] = 0\n",
    "tripdata_df.loc[tripdata_df[\"extra\"] < 0, \"extra\"] = 0\n",
    "tripdata_df.loc[tripdata_df[\"mta_tax\"] < 0, \"mta_tax\"] = 0.5\n",
    "\n",
    "tripdata_df = tripdata_df[tripdata_df['trip_distance'] > 0]"
   ]
  },
  {
   "cell_type": "markdown",
   "metadata": {},
   "source": [
    "All the negative values are assigned to 0, besides \"improvement_surcharge\" and \"mta_tax\", since we are not dealing with any instances that could be negative. \"improvement_surcharge\" is set to 0.3, and \"mta_tax\" is 0.5, as that is defined in the data dictionary."
   ]
  },
  {
   "cell_type": "code",
   "execution_count": 20,
   "metadata": {},
   "outputs": [
    {
     "data": {
      "image/png": "[encoded data removed]",
      "text/plain": [
       "<Figure size 640x480 with 1 Axes>"
      ]
     },
     "metadata": {},
     "output_type": "display_data"
    }
   ],
   "source": [
    "sns.histplot(tripdata_df['fare_amount'], bins=20, kde=True)\n",
    "plt.title('Histogram of Fare Amount')\n",
    "plt.xlabel('Fare Amount')\n",
    "plt.ylabel('Frequency')\n",
    "plt.show()"
   ]
  },
  {
   "cell_type": "markdown",
   "metadata": {},
   "source": [
    "### Filtering out outlier trips"
   ]
  },
  {
   "cell_type": "code",
   "execution_count": 21,
   "metadata": {},
   "outputs": [
    {
     "data": {
      "image/png": "[encoded data removed]",
      "text/plain": [
       "<Figure size 640x480 with 1 Axes>"
      ]
     },
     "metadata": {},
     "output_type": "display_data"
    }
   ],
   "source": [
    "sns.histplot(tripdata_df['trip_distance'], bins=20, kde=True)\n",
    "plt.title('Distribution of Trip Distance (Pre-Cleaning)')\n",
    "plt.xlabel('Trip Distance')\n",
    "plt.show()"
   ]
  },
  {
   "cell_type": "markdown",
   "metadata": {},
   "source": [
    "It is evident that we have some outliers in the trip distances"
   ]
  },
  {
   "cell_type": "code",
   "execution_count": 22,
   "metadata": {},
   "outputs": [],
   "source": [
    "#calculate the IQR for trip_distance\n",
    "Q1 = tripdata_df['trip_distance'].quantile(0.25)\n",
    "Q3 = tripdata_df['trip_distance'].quantile(0.75)\n",
    "IQR = Q3 - Q1\n",
    "\n",
    "#define the lower and upper bounds for filtering outliers\n",
    "lower_bound = Q1 - 1.5 * IQR\n",
    "upper_bound = Q3 + 1.5 * IQR\n",
    "\n",
    "#filter out trips beyond the bounds\n",
    "tripdata_df = tripdata_df[(tripdata_df['trip_distance'] >= lower_bound) & (tripdata_df['trip_distance'] <= upper_bound)]"
   ]
  },
  {
   "cell_type": "markdown",
   "metadata": {},
   "source": [
    "#### Visualizing the distribution of trip distances"
   ]
  },
  {
   "cell_type": "code",
   "execution_count": 23,
   "metadata": {},
   "outputs": [
    {
     "data": {
      "image/png": "[encoded data removed]",
      "text/plain": [
       "<Figure size 640x480 with 1 Axes>"
      ]
     },
     "metadata": {},
     "output_type": "display_data"
    }
   ],
   "source": [
    "sns.histplot(tripdata_df['trip_distance'], bins=20, kde=True)\n",
    "plt.title('Distribution of Trip Distance')\n",
    "plt.xlabel('Trip Distance')\n",
    "plt.show()"
   ]
  },
  {
   "cell_type": "markdown",
   "metadata": {},
   "source": [
    "By filtering the dataset based on these bounds, trips are retained within a reasonable range of distances, removing outliers that might skew the analysis."
   ]
  },
  {
   "cell_type": "markdown",
   "metadata": {},
   "source": [
    "## Part 3:\n",
    "Selecting the required features to build the model and encoding categorical variables."
   ]
  },
  {
   "cell_type": "markdown",
   "metadata": {},
   "source": [
    "## Relevant Features:\n",
    "1) passenger_count: The number of passengers in the taxi. It is reasonable to assume that the tip amount might be influenced by the number of passengers, as larger groups might be more inclined to tip higher.\n",
    "\n",
    "2) trip_distance: The distance traveled during the taxi trip. Longer trips may result in a higher tip, as passengers might be more willing to tip for longer rides.\n",
    "\n",
    "3) fare_amount: The base fare for the taxi trip. The fare amount serves as a fundamental factor influencing the total cost of the trip, and consequently, the tip amount.\n",
    "\n",
    "4) extra: Extra charges applicable to the trip. This could include additional fees for specific conditions or services, and it may contribute to the overall cost and, subsequently, the tip.\n",
    "\n",
    "5) mta_tax: MTA tax imposed on taxi trips. This is a fixed charge and might contribute to the total cost and, consequently, the tip amount.\n",
    "\n",
    "6) tolls_amount: Tolls paid during the trip. Tolls represent an additional cost for the taxi ride, and passengers might factor this into their tipping decision.\n",
    "\n",
    "7) improvement_surcharge: Similar to other surcharges, it contributes to the overall cost of the trip and may influence the tip.\n",
    "\n",
    "8) congestion_surcharge: A surcharge related to congestion pricing. Like other surcharges, it adds to the total cost and may impact the tip amount.\n",
    "\n",
    "9) payment_type: The method of payment used by the passenger. Different payment types might be associated with different tipping behaviors. For example, passengers paying with credit cards may tip differently than those paying in cash.\n",
    "\n",
    "10) trip_type: Indicates whether the trip is a street-hail or dispatch trip. The nature of the trip may influence the passenger's perception and willingness to tip.\n",
    "\n",
    "11) PULocationID and DOLocationID: Pickup and dropoff location IDs. The geographic location of the trip may influence tipping behavior, with certain areas potentially associated with higher or lower tips.\n",
    "\n",
    "12) RatecodeID: RatecodeID represents the rate set for the trip (standard rate, JFK, Newark, etc.). Different rate codes might imply different trip characteristics or destinations, influencing the tip amount.\n"
   ]
  },
  {
   "cell_type": "markdown",
   "metadata": {},
   "source": [
    "## Categorical Variables:"
   ]
  },
  {
   "cell_type": "code",
   "execution_count": 24,
   "metadata": {},
   "outputs": [],
   "source": [
    "#encode the categorical features\n",
    "categorical_columns = ['payment_type', 'trip_type', 'PULocationID', 'DOLocationID', 'RatecodeID']\n",
    "tripdata_df_encoded = pd.get_dummies(tripdata_df, columns=categorical_columns, drop_first=True)"
   ]
  },
  {
   "cell_type": "markdown",
   "metadata": {},
   "source": [
    "## Part 4:\n",
    "Partitioning the prepared data into train/test sets."
   ]
  },
  {
   "cell_type": "code",
   "execution_count": 25,
   "metadata": {},
   "outputs": [],
   "source": [
    "#partition the data\n",
    "#select relevant features based on the previous steps\n",
    "selected_features = ['passenger_count', 'trip_distance', 'fare_amount', 'extra', 'mta_tax',\n",
    "                     'tolls_amount', 'improvement_surcharge', 'congestion_surcharge']\n",
    "\n",
    "\n",
    "# Extract features and target variable\n",
    "X = tripdata_df_encoded[selected_features] #input features\n",
    "y = tripdata_df_encoded['tip_amount'] #target\n",
    "\n",
    "X_train, X_test, y_train, y_test = train_test_split(X,              #the input features\n",
    "                                                    y,              #the label\n",
    "                                                    test_size=0.3,  #set aside 30% of the data as the test set\n",
    "                                                    random_state=7, #reproduce the results\n",
    "                                                   )"
   ]
  },
  {
   "cell_type": "code",
   "execution_count": 26,
   "metadata": {},
   "outputs": [
    {
     "name": "stdout",
     "output_type": "stream",
     "text": [
      "Train set shape: (195417, 8) (195417,)\n",
      "Test set shape: (83751, 8) (83751,)\n"
     ]
    }
   ],
   "source": [
    "#print the shape of the training and testing sets to verify\n",
    "print(\"Train set shape:\", X_train.shape, y_train.shape)\n",
    "print(\"Test set shape:\", X_test.shape, y_test.shape)"
   ]
  },
  {
   "cell_type": "markdown",
   "metadata": {},
   "source": [
    "## Part 5:\n",
    "Building a machine learning model, using the Random Forest algorithm, that predicts the tip amount."
   ]
  },
  {
   "cell_type": "markdown",
   "metadata": {},
   "source": [
    "Since we will be predicting a continuous variable (the tip amount), we will perform regression, not classification."
   ]
  },
  {
   "cell_type": "code",
   "execution_count": 27,
   "metadata": {
    "scrolled": false
   },
   "outputs": [
    {
     "name": "stdout",
     "output_type": "stream",
     "text": [
      "Mean Squared Error (MSE): 7.86\n",
      "Mean Absolute Error (MAE): 1.11\n",
      "R-squared (R2): -0.02\n"
     ]
    }
   ],
   "source": [
    "#initialize the Random Forest Regressor\n",
    "random_forest_model = RandomForestRegressor(n_estimators=100, random_state=42)\n",
    "\n",
    "#train the model on the training set\n",
    "random_forest_model.fit(X_train, y_train)\n",
    "\n",
    "#make predictions on the test set\n",
    "predictions = random_forest_model.predict(X_test)\n",
    "\n",
    "#evaluate the model\n",
    "mse = mean_squared_error(y_test, predictions)\n",
    "mae = mean_absolute_error(y_test, predictions)\n",
    "r2 = r2_score(y_test, predictions)\n",
    "\n",
    "#round the evaluation metrics to two decimal places\n",
    "mse = round(mse, 2)\n",
    "mae = round(mae, 2)\n",
    "r2 = round(r2, 2)\n",
    "\n",
    "#print the evaluation metrics\n",
    "print(f'Mean Squared Error (MSE): {mse}')\n",
    "print(f'Mean Absolute Error (MAE): {mae}')\n",
    "print(f'R-squared (R2): {r2}')"
   ]
  },
  {
   "cell_type": "markdown",
   "metadata": {},
   "source": [
    "## Part 6:\n",
    "Evaluating the predictions from the model."
   ]
  },
  {
   "cell_type": "markdown",
   "metadata": {},
   "source": [
    "Mean Squared Error (MSE): 7.86\n",
    "In this case, an MSE of 7.86 means, on average, the squared difference between predicted and actual tip amounts is 7.86. \n",
    "\n",
    "Mean Absolute Error (MAE): 1.11\n",
    "An MAE of 1.11 indicates that, on average, the model's predictions are off by approximately $1.11 in tip amount. MAE is in the same unit as the target variable.\n",
    "\n",
    "R-squared (R2): -0.02\n",
    "A negative R-squared suggests that the model does not perform well and is worse than a model that simply predicts the mean of the target variable. R-squared can be negative when the model is a poor fit for the data.\n",
    "\n",
    "Ultimately, the model's performance, based on these metrics, is not satisfactory."
   ]
  },
  {
   "cell_type": "markdown",
   "metadata": {},
   "source": [
    "## Part 7:\n",
    "Reflecting on the model's prediction capability and tuning the model using the n_estimators parameter.\n"
   ]
  },
  {
   "cell_type": "markdown",
   "metadata": {},
   "source": [
    "#### Based on the evaluation metrics, this model did not perform too well. "
   ]
  },
  {
   "cell_type": "code",
   "execution_count": 28,
   "metadata": {},
   "outputs": [
    {
     "name": "stdout",
     "output_type": "stream",
     "text": [
      "Best Model - Mean Squared Error: 7.86\n",
      "Best Model - Mean Absolute Error: 1.11\n",
      "Best Model - R-squared: -0.01\n",
      "Best Model - Number of Estimators: 150\n"
     ]
    }
   ],
   "source": [
    "#define a range of values for n_estimators to try\n",
    "param_grid = {'n_estimators': [50, 100, 150]}\n",
    "\n",
    "#instantiate the Random Forest Regressor\n",
    "rf_model = RandomForestRegressor(random_state=42)\n",
    "\n",
    "#create a GridSearchCV object\n",
    "grid_search = GridSearchCV(estimator=rf_model, param_grid=param_grid, cv=3, scoring='neg_mean_squared_error', n_jobs=-1)\n",
    "\n",
    "#fit the grid search to the data\n",
    "grid_search.fit(X_train, y_train)\n",
    "\n",
    "#get the best hyperparameters\n",
    "best_n_estimators = grid_search.best_params_['n_estimators']\n",
    "\n",
    "#instantiate the Random Forest Regressor with the best hyperparameters\n",
    "best_rf_model = RandomForestRegressor(n_estimators=best_n_estimators, random_state=42)\n",
    "\n",
    "#train the model on the training set\n",
    "best_rf_model.fit(X_train, y_train)\n",
    "\n",
    "#make predictions on the test set\n",
    "y_pred_best = best_rf_model.predict(X_test)\n",
    "\n",
    "#evaluate the model\n",
    "mse_best = mean_squared_error(y_test, y_pred_best)\n",
    "mae_best = mean_absolute_error(y_test, y_pred_best)\n",
    "r2_best = r2_score(y_test, y_pred_best)\n",
    "\n",
    "#round the evaluation metrics to two decimal places\n",
    "mse_best = round(mse_best, 2)\n",
    "mae_best = round(mae_best, 2)\n",
    "r2_best = round(r2_best, 2)\n",
    "\n",
    "#print the evaluation metrics for the best model\n",
    "print(f'Best Model - Mean Squared Error: {mse_best}')\n",
    "print(f'Best Model - Mean Absolute Error: {mae_best}')\n",
    "print(f'Best Model - R-squared: {r2_best}')\n",
    "print(f'Best Model - Number of Estimators: {best_n_estimators}')"
   ]
  },
  {
   "cell_type": "markdown",
   "metadata": {},
   "source": [
    "Based on this set of n_estimators, it is clear that the tuning did not significantly improve the model's performance. The metrics for the best model are very similar to the initial model. We will try to tune this model with a range of hyperparameters."
   ]
  },
  {
   "cell_type": "code",
   "execution_count": 29,
   "metadata": {},
   "outputs": [
    {
     "name": "stdout",
     "output_type": "stream",
     "text": [
      "Best Model - Mean Squared Error: 7.35\n",
      "Best Model - Mean Absolute Error: 1.08\n",
      "Best Model - R-squared: 0.05\n",
      "Best Model - Best Hyperparameters: {'max_depth': 10, 'min_samples_leaf': 2, 'min_samples_split': 5, 'n_estimators': 50}\n"
     ]
    }
   ],
   "source": [
    "#define a smaller set of values for hyperparameters to try\n",
    "param_grid = {\n",
    "    'n_estimators': [50, 100],\n",
    "    'max_depth': [None, 10],\n",
    "    'min_samples_split': [2, 5],\n",
    "    'min_samples_leaf': [1, 2]\n",
    "}\n",
    "\n",
    "#instantiate the Random Forest Regressor\n",
    "rf_model = RandomForestRegressor(random_state=42)\n",
    "\n",
    "#create a GridSearchCV object\n",
    "grid_search = GridSearchCV(estimator=rf_model, param_grid=param_grid, cv=3, scoring='neg_mean_squared_error', n_jobs=-1)\n",
    "\n",
    "#fit the grid search to the data\n",
    "grid_search.fit(X_train, y_train)\n",
    "\n",
    "#get the best hyperparameters\n",
    "best_params = grid_search.best_params_\n",
    "\n",
    "#instantiate the Random Forest Regressor with the best hyperparameters\n",
    "best_rf_model = RandomForestRegressor(**best_params, random_state=42)\n",
    "\n",
    "#train the model on the training set\n",
    "best_rf_model.fit(X_train, y_train)\n",
    "\n",
    "#make predictions on the test set\n",
    "y_pred_best = best_rf_model.predict(X_test)\n",
    "\n",
    "#evaluate the model\n",
    "mse_best = mean_squared_error(y_test, y_pred_best)\n",
    "mae_best = mean_absolute_error(y_test, y_pred_best)\n",
    "r2_best = r2_score(y_test, y_pred_best)\n",
    "\n",
    "#round the evaluation metrics to two decimal places\n",
    "mse_best = round(mse_best, 2)\n",
    "mae_best = round(mae_best, 2)\n",
    "r2_best = round(r2_best, 2)\n",
    "\n",
    "#print the evaluation metrics and best hyperparameters\n",
    "print(f'Best Model - Mean Squared Error: {mse_best}')\n",
    "print(f'Best Model - Mean Absolute Error: {mae_best}')\n",
    "print(f'Best Model - R-squared: {r2_best}')\n",
    "print(f'Best Model - Best Hyperparameters: {best_params}')"
   ]
  },
  {
   "cell_type": "markdown",
   "metadata": {},
   "source": [
    "The Mean Squared Error (MSE) has decreased from the initial model, and the R-squared value has moved from negative to positive, indicating some improvement in capturing the variance in the target variable. The Mean Absolute Error (MAE) is also slightly lower. \n",
    "\n",
    "Overall, the tuning process slightly improved the model's predictive capability."
   ]
  },
  {
   "cell_type": "markdown",
   "metadata": {},
   "source": [
    "## Part 8:\n",
    "Reviewing which features were the most important when making the predictions."
   ]
  },
  {
   "cell_type": "code",
   "execution_count": 30,
   "metadata": {},
   "outputs": [
    {
     "data": {
      "image/png": "[encoded data removed]",
      "text/plain": [
       "<Figure size 1000x600 with 1 Axes>"
      ]
     },
     "metadata": {},
     "output_type": "display_data"
    }
   ],
   "source": [
    "#get feature importances from the best model\n",
    "feature_importances = best_rf_model.feature_importances_\n",
    "\n",
    "#get the names of the features\n",
    "feature_names = X_train.columns\n",
    "\n",
    "#sort feature importances in descending order\n",
    "indices = feature_importances.argsort()[::-1]\n",
    "\n",
    "#plot the feature importances\n",
    "plt.figure(figsize=(10, 6))\n",
    "plt.bar(range(X_train.shape[1]), feature_importances[indices], align=\"center\")\n",
    "plt.xticks(range(X_train.shape[1]), feature_names[indices], rotation=45)\n",
    "plt.xlabel(\"Feature\")\n",
    "plt.ylabel(\"Importance\")\n",
    "plt.title(\"Feature Importance\")\n",
    "plt.show()"
   ]
  },
  {
   "cell_type": "markdown",
   "metadata": {},
   "source": [
    "Looking at the top three bars, \n",
    "\n",
    "1) Congestion Surcharge: The high importance of this feature suggests that the presence or absence of a congestion surcharge significantly affects the predicted tip amount. It might be indicative of the impact of traffic conditions on tips.\n",
    "\n",
    "2) Fare Amount: The fare amount is a crucial factor in determining the tip amount, which aligns with common intuition. Passengers are more likely to tip a higher amount when the fare itself is higher.\n",
    "\n",
    "3) Trip Distance: The distance traveled during the trip is another important factor. Longer trips might lead to higher tip amounts, and this is reflected in the feature importance."
   ]
  }
 ],
 "metadata": {
  "kernelspec": {
   "display_name": "Python 3 (ipykernel)",
   "language": "python",
   "name": "python3"
  },
  "language_info": {
   "codemirror_mode": {
    "name": "ipython",
    "version": 3
   },
   "file_extension": ".py",
   "mimetype": "text/x-python",
   "name": "python",
   "nbconvert_exporter": "python",
   "pygments_lexer": "ipython3",
   "version": "3.11.4"
  }
 },
 "nbformat": 4,
 "nbformat_minor": 4
}
