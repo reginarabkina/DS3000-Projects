{
 "cells": [
  {
   "cell_type": "markdown",
   "metadata": {},
   "source": [
    "# DS 3000 - Assignment 11\n",
    "\n",
    "**Student Name**: Regina Rabkina\n",
    "\n",
    "**Date**: 11/16/23"
   ]
  },
  {
   "cell_type": "code",
   "execution_count": 1,
   "metadata": {},
   "outputs": [],
   "source": [
    "# Import Libraries\n",
    "import pandas as pd\n",
    "import numpy as np\n",
    "import seaborn as sns\n",
    "from sklearn.svm import SVC\n",
    "from sklearn.preprocessing import StandardScaler\n",
    "from sklearn.preprocessing import OneHotEncoder\n",
    "from sklearn.model_selection import train_test_split\n",
    "from sklearn.metrics import classification_report\n",
    "import matplotlib.pyplot as plt\n",
    "from sklearn.model_selection import GridSearchCV\n",
    "from sklearn.impute import KNNImputer\n"
   ]
  },
  {
   "cell_type": "markdown",
   "metadata": {},
   "source": [
    "## Part 1: \n",
    "\n",
    "Loading the dataset “diabetes.csv”, viewing the dimensions of the data, and gathering summary statistics."
   ]
  },
  {
   "cell_type": "code",
   "execution_count": 2,
   "metadata": {},
   "outputs": [
    {
     "name": "stdout",
     "output_type": "stream",
     "text": [
      "Dimensions of the data: (768, 9)\n",
      "       Pregnancies  Glucose  BloodPressure  SkinThickness  Insulin     BMI  \\\n",
      "count       768.00   768.00         768.00         768.00   768.00  768.00   \n",
      "mean          3.85   120.89          69.11          20.54    79.80   31.99   \n",
      "std           3.37    31.97          19.36          15.95   115.24    7.88   \n",
      "min           0.00     0.00           0.00           0.00     0.00    0.00   \n",
      "25%           1.00    99.00          62.00           0.00     0.00   27.30   \n",
      "50%           3.00   117.00          72.00          23.00    30.50   32.00   \n",
      "75%           6.00   140.25          80.00          32.00   127.25   36.60   \n",
      "max          17.00   199.00         122.00          99.00   846.00   67.10   \n",
      "\n",
      "       DiabetesPedigreeFunction     Age  Outcome  \n",
      "count                    768.00  768.00   768.00  \n",
      "mean                       0.47   33.24     0.35  \n",
      "std                        0.33   11.76     0.48  \n",
      "min                        0.08   21.00     0.00  \n",
      "25%                        0.24   24.00     0.00  \n",
      "50%                        0.37   29.00     0.00  \n",
      "75%                        0.63   41.00     1.00  \n",
      "max                        2.42   81.00     1.00  \n"
     ]
    }
   ],
   "source": [
    "#load the dataset\n",
    "diabetes_df = pd.read_csv('diabetes.csv')\n",
    "\n",
    "#print the dimensions of the data\n",
    "print(\"Dimensions of the data:\", diabetes_df.shape)\n",
    "\n",
    "# Define which columns need rounding (assuming all columns are numeric)\n",
    "numeric_columns = diabetes_df.select_dtypes(include='number').columns\n",
    "\n",
    "# Round numeric columns to 2 decimal places\n",
    "diabetes_df[numeric_columns] = diabetes_df[numeric_columns].round(2)\n",
    "\n",
    "#print the summary statistics\n",
    "summary_stats = diabetes_df.describe().round(2)\n",
    "print(summary_stats)\n"
   ]
  },
  {
   "cell_type": "markdown",
   "metadata": {},
   "source": [
    "Pregnancies: On average, the individuals in this dataset have had about 3.84 pregnancies, but it ranges widely from 0 to 17.\n",
    "\n",
    "Glucose: The average glucose level is around 120.89 mg/dL, with a standard deviation of approximately 31.97. The minimum value of 0 seems like a missing or erroneous entry since glucose levels normally don't reach zero.\n",
    "\n",
    "BloodPressure: The mean blood pressure is approximately 69.11 mmHg, with a standard deviation of about 19.36. The minimum value of 0 also appears as an anomaly since normal blood pressure values wouldn't be zero.\n",
    "\n",
    "SkinThickness: The mean skin thickness is around 20.54 mm, with a minimum value of 0, which might indicate missing or incorrect data since skin thickness can't be zero.\n",
    "\n",
    "Insulin: The average insulin level is about 79.80, but the standard deviation is quite high at approximately 115.24. There are also values of 0 which could indicate missing data.\n",
    "\n",
    "BMI: The average BMI is around 31.99, which falls into the category of obesity. There's a minimum value of 0, which seems implausible for BMI.\n",
    "\n",
    "DiabetesPedigreeFunction: This shows an average diabetes pedigree function value of about 0.47. It represents the likelihood of diabetes based on family history.\n",
    "\n",
    "Age: The average age is around 33.24 years, ranging from 21 to 81.\n",
    "\n",
    "Outcome: This seems to be a binary categorical variable (0 or 1) indicating whether an individual has diabetes (1) or not (0)."
   ]
  },
  {
   "cell_type": "markdown",
   "metadata": {},
   "source": [
    "## Part 2: \n",
    "Creating visualizations to demonstrate univariate patterns in the data."
   ]
  },
  {
   "cell_type": "markdown",
   "metadata": {},
   "source": [
    "### Univariate - BMI visualization"
   ]
  },
  {
   "cell_type": "code",
   "execution_count": 3,
   "metadata": {},
   "outputs": [
    {
     "data": {
      "image/png": "[encoded data removed]",
      "text/plain": [
       "<Figure size 800x600 with 1 Axes>"
      ]
     },
     "metadata": {},
     "output_type": "display_data"
    }
   ],
   "source": [
    "#histogram for BMI\n",
    "plt.figure(figsize=(8, 6))\n",
    "plt.hist(diabetes_df['BMI'], bins=30, color='lightgreen')\n",
    "plt.xlabel('BMI (weight in kg/(height in m)^2)')\n",
    "plt.ylabel('Frequency')\n",
    "plt.title('Distribution of BMI')\n",
    "plt.grid(True)\n",
    "plt.show()"
   ]
  },
  {
   "cell_type": "markdown",
   "metadata": {},
   "source": [
    "#### Observations: \n",
    "The distribution of BMI is clustered around the 20-40 range, with a peak frequency at around 36. The distribution is rather normal, since the data near the mean (31.99) are more frequent in occurrence."
   ]
  },
  {
   "cell_type": "markdown",
   "metadata": {},
   "source": [
    "### Univariate - Glucose visualization"
   ]
  },
  {
   "cell_type": "code",
   "execution_count": 4,
   "metadata": {},
   "outputs": [
    {
     "data": {
      "image/png": "[encoded data removed]",
      "text/plain": [
       "<Figure size 800x600 with 1 Axes>"
      ]
     },
     "metadata": {},
     "output_type": "display_data"
    }
   ],
   "source": [
    "#histogram for Glucose\n",
    "plt.figure(figsize=(8, 6))\n",
    "plt.hist(diabetes_df['Glucose'], bins=30, color='skyblue')\n",
    "plt.xlabel('Glucose (mg/dL)')\n",
    "plt.ylabel('Frequency')\n",
    "plt.title('Distribution of Glucose Levels')\n",
    "plt.grid(True)\n",
    "plt.show()"
   ]
  },
  {
   "cell_type": "markdown",
   "metadata": {},
   "source": [
    "#### Observations: \n",
    "The distribution of glucose is clustered around the 80-125 range, with a peak frequency at around 100. The distribution is positively skewed, with the tail being more pronounced on the right side."
   ]
  },
  {
   "cell_type": "markdown",
   "metadata": {},
   "source": [
    "### Correlation Matrix"
   ]
  },
  {
   "cell_type": "code",
   "execution_count": 5,
   "metadata": {},
   "outputs": [
    {
     "name": "stdout",
     "output_type": "stream",
     "text": [
      "Correlation Matrix:\n",
      "                          Pregnancies   Glucose  BloodPressure  SkinThickness  \\\n",
      "Pregnancies                  1.000000  0.129459       0.141282      -0.081672   \n",
      "Glucose                      0.129459  1.000000       0.152590       0.057328   \n",
      "BloodPressure                0.141282  0.152590       1.000000       0.207371   \n",
      "SkinThickness               -0.081672  0.057328       0.207371       1.000000   \n",
      "Insulin                     -0.073535  0.331357       0.088933       0.436783   \n",
      "BMI                          0.017683  0.221071       0.281805       0.392573   \n",
      "DiabetesPedigreeFunction    -0.034107  0.136826       0.041600       0.184145   \n",
      "Age                          0.544341  0.263514       0.239528      -0.113970   \n",
      "Outcome                      0.221898  0.466581       0.065068       0.074752   \n",
      "\n",
      "                           Insulin       BMI  DiabetesPedigreeFunction  \\\n",
      "Pregnancies              -0.073535  0.017683                 -0.034107   \n",
      "Glucose                   0.331357  0.221071                  0.136826   \n",
      "BloodPressure             0.088933  0.281805                  0.041600   \n",
      "SkinThickness             0.436783  0.392573                  0.184145   \n",
      "Insulin                   1.000000  0.197859                  0.185622   \n",
      "BMI                       0.197859  1.000000                  0.140811   \n",
      "DiabetesPedigreeFunction  0.185622  0.140811                  1.000000   \n",
      "Age                      -0.042163  0.036242                  0.033030   \n",
      "Outcome                   0.130548  0.292695                  0.173288   \n",
      "\n",
      "                               Age   Outcome  \n",
      "Pregnancies               0.544341  0.221898  \n",
      "Glucose                   0.263514  0.466581  \n",
      "BloodPressure             0.239528  0.065068  \n",
      "SkinThickness            -0.113970  0.074752  \n",
      "Insulin                  -0.042163  0.130548  \n",
      "BMI                       0.036242  0.292695  \n",
      "DiabetesPedigreeFunction  0.033030  0.173288  \n",
      "Age                       1.000000  0.238356  \n",
      "Outcome                   0.238356  1.000000  \n"
     ]
    }
   ],
   "source": [
    "# Creating the correlation matrix\n",
    "correlation_matrix = diabetes_df.corr()\n",
    "\n",
    "print(\"Correlation Matrix:\")\n",
    "print(correlation_matrix)\n"
   ]
  },
  {
   "cell_type": "code",
   "execution_count": 6,
   "metadata": {
    "scrolled": true
   },
   "outputs": [
    {
     "data": {
      "image/png": "[encoded data removed]",
      "text/plain": [
       "<Figure size 1000x800 with 2 Axes>"
      ]
     },
     "metadata": {},
     "output_type": "display_data"
    }
   ],
   "source": [
    "#creating the correlation matrix\n",
    "correlation_matrix = diabetes_df.corr()\n",
    "\n",
    "plt.figure(figsize=(10, 8))\n",
    "sns.heatmap(correlation_matrix, annot=True, cmap='coolwarm', fmt='.2f', annot_kws={\"size\": 10})\n",
    "plt.title('Correlation Matrix Heatmap')\n",
    "plt.show()"
   ]
  },
  {
   "cell_type": "markdown",
   "metadata": {},
   "source": [
    "Some notable correlations:\n",
    "1) There is a relatively strong positive correlation between Age and Pregnancies (0.54)\n",
    "2) There is also a relatively strong positive correlation between Glucose and Outcome (0.47)\n",
    "3) There are negative correlations between Pregnancies and SkinThickness, Insulin, DiabetesPedigreeFunction.\n",
    "4) There also are negative correlations between Age and SkinThickness, Insulin."
   ]
  },
  {
   "cell_type": "markdown",
   "metadata": {},
   "source": [
    "## Part 3:\n",
    "Evaluating and preparing the data for missing or invalid values\n"
   ]
  },
  {
   "cell_type": "code",
   "execution_count": 7,
   "metadata": {},
   "outputs": [
    {
     "name": "stdout",
     "output_type": "stream",
     "text": [
      "Missing Values:\n",
      " Pregnancies                 0\n",
      "Glucose                     0\n",
      "BloodPressure               0\n",
      "SkinThickness               0\n",
      "Insulin                     0\n",
      "BMI                         0\n",
      "DiabetesPedigreeFunction    0\n",
      "Age                         0\n",
      "Outcome                     0\n",
      "dtype: int64\n"
     ]
    }
   ],
   "source": [
    "#check for missing values\n",
    "missing_values = diabetes_df.isnull().sum()\n",
    "print(\"Missing Values:\\n\", missing_values)"
   ]
  },
  {
   "cell_type": "markdown",
   "metadata": {},
   "source": [
    "There don't seem to be any missing values in the data set."
   ]
  },
  {
   "cell_type": "markdown",
   "metadata": {},
   "source": [
    "As noted earlier, certain columns such as Glucose, BloodPressure, Insulin, BMI, and SkinThickness have minimum values of 0, which does not make sense in this context. "
   ]
  },
  {
   "cell_type": "code",
   "execution_count": 8,
   "metadata": {},
   "outputs": [
    {
     "name": "stdout",
     "output_type": "stream",
     "text": [
      "Counts of Invalid Values:\n",
      "Glucose            5\n",
      "BloodPressure     35\n",
      "BMI               11\n",
      "Insulin          374\n",
      "SkinThickness    227\n",
      "dtype: int64\n"
     ]
    }
   ],
   "source": [
    "#define columns with potentially invalid values (where zero might be invalid)\n",
    "columns_with_invalid_values = ['Glucose', 'BloodPressure', 'BMI', 'Insulin', 'SkinThickness']\n",
    "\n",
    "#count the number of zeros in the specified columns\n",
    "invalid_counts = (diabetes_df[columns_with_invalid_values] == 0).sum()\n",
    "print(\"Counts of Invalid Values:\")\n",
    "print(invalid_counts)"
   ]
  },
  {
   "cell_type": "markdown",
   "metadata": {},
   "source": [
    "Based on the correlation matrix, there is only high correlation between Glucose and Outcome. Furthermore, the invalid counts of BloodPressure and BMI are relatively low, so the invalid values will be imputed with the mean of their respective columns."
   ]
  },
  {
   "cell_type": "code",
   "execution_count": 9,
   "metadata": {},
   "outputs": [],
   "source": [
    "#impute mean for variables with a small number of invalid values\n",
    "columns_to_impute = ['Glucose', 'BloodPressure', 'BMI']\n",
    "\n",
    "#impute with mean\n",
    "for col in columns_to_impute:\n",
    "    # calculate mean excluding invalid values (assuming invalid values are 0)\n",
    "    col_mean = diabetes_df[col][diabetes_df[col] != 0].mean()\n",
    "    \n",
    "    #replace invalid values with mean\n",
    "    diabetes_df[col] = diabetes_df[col].replace(0, col_mean)"
   ]
  },
  {
   "cell_type": "markdown",
   "metadata": {},
   "source": [
    "For the rest of the invalid values, since there is a substantial amount of invalid values, we will be imputing with K-Nearest Neigbhors to account for relationships between variables and will possibly yield more accurate estimations than simple imputation methods."
   ]
  },
  {
   "cell_type": "code",
   "execution_count": 10,
   "metadata": {},
   "outputs": [],
   "source": [
    "#replace 0 values with NaN in columns to be imputed\n",
    "columns_to_impute_knn = ['Insulin', 'SkinThickness']\n",
    "diabetes_df[columns_to_impute_knn] = diabetes_df[columns_to_impute_knn].replace(0, np.nan)\n",
    "\n",
    "#initialize KNN imputer with k=5 (you can adjust the value of k)\n",
    "knn_imputer = KNNImputer(n_neighbors=5)\n",
    "\n",
    "#impute missing values using KNN\n",
    "imputed_data = knn_imputer.fit_transform(diabetes_df[columns_to_impute_knn])\n",
    "\n",
    "#replace the imputed values in the DataFrame\n",
    "diabetes_df[columns_to_impute_knn] = imputed_data"
   ]
  },
  {
   "cell_type": "code",
   "execution_count": 11,
   "metadata": {},
   "outputs": [
    {
     "name": "stdout",
     "output_type": "stream",
     "text": [
      "Counts of Invalid Values:\n",
      "Glucose          0\n",
      "BloodPressure    0\n",
      "BMI              0\n",
      "Insulin          0\n",
      "SkinThickness    0\n",
      "dtype: int64\n"
     ]
    }
   ],
   "source": [
    "columns_with_invalid_values = ['Glucose', 'BloodPressure', 'BMI', 'Insulin', 'SkinThickness']\n",
    "\n",
    "#count the number of zeros in the specified columns\n",
    "invalid_counts = (diabetes_df[columns_with_invalid_values] == 0).sum()\n",
    "print(\"Counts of Invalid Values:\")\n",
    "print(invalid_counts)"
   ]
  },
  {
   "cell_type": "markdown",
   "metadata": {},
   "source": [
    "## Part 4:\n",
    "Partitioning the data into train/test sets, encoding categorical data, and normalizing numeric data."
   ]
  },
  {
   "cell_type": "code",
   "execution_count": 12,
   "metadata": {},
   "outputs": [],
   "source": [
    "X = diabetes_df.drop('Outcome', axis=1)  # Features\n",
    "y = diabetes_df['Outcome']  # Target\n",
    "\n",
    "X_train, X_test, y_train, y_test = train_test_split(X,              #the input features\n",
    "                                                    y,              #the label\n",
    "                                                    test_size=0.3,  #set aside 30% of the data as the test set\n",
    "                                                    random_state=7, #reproduce the results\n",
    "                                                    stratify=y      #preserve the distribution of the labels\n",
    "                                                   )"
   ]
  },
  {
   "cell_type": "code",
   "execution_count": 13,
   "metadata": {},
   "outputs": [],
   "source": [
    "X_train = X_train.copy()\n",
    "X_test  = X_test.copy()"
   ]
  },
  {
   "cell_type": "code",
   "execution_count": 14,
   "metadata": {},
   "outputs": [
    {
     "data": {
      "text/html": [
       "<div>\n",
       "<style scoped>\n",
       "    .dataframe tbody tr th:only-of-type {\n",
       "        vertical-align: middle;\n",
       "    }\n",
       "\n",
       "    .dataframe tbody tr th {\n",
       "        vertical-align: top;\n",
       "    }\n",
       "\n",
       "    .dataframe thead th {\n",
       "        text-align: right;\n",
       "    }\n",
       "</style>\n",
       "<table border=\"1\" class=\"dataframe\">\n",
       "  <thead>\n",
       "    <tr style=\"text-align: right;\">\n",
       "      <th></th>\n",
       "      <th>Pregnancies</th>\n",
       "      <th>Glucose</th>\n",
       "      <th>BloodPressure</th>\n",
       "      <th>SkinThickness</th>\n",
       "      <th>Insulin</th>\n",
       "      <th>BMI</th>\n",
       "      <th>DiabetesPedigreeFunction</th>\n",
       "      <th>Age</th>\n",
       "    </tr>\n",
       "  </thead>\n",
       "  <tbody>\n",
       "    <tr>\n",
       "      <th>424</th>\n",
       "      <td>8</td>\n",
       "      <td>151.0</td>\n",
       "      <td>78.0</td>\n",
       "      <td>32.0</td>\n",
       "      <td>210.0</td>\n",
       "      <td>42.9</td>\n",
       "      <td>0.52</td>\n",
       "      <td>36</td>\n",
       "    </tr>\n",
       "    <tr>\n",
       "      <th>282</th>\n",
       "      <td>7</td>\n",
       "      <td>133.0</td>\n",
       "      <td>88.0</td>\n",
       "      <td>15.0</td>\n",
       "      <td>155.0</td>\n",
       "      <td>32.4</td>\n",
       "      <td>0.26</td>\n",
       "      <td>37</td>\n",
       "    </tr>\n",
       "    <tr>\n",
       "      <th>747</th>\n",
       "      <td>1</td>\n",
       "      <td>81.0</td>\n",
       "      <td>74.0</td>\n",
       "      <td>41.0</td>\n",
       "      <td>57.0</td>\n",
       "      <td>46.3</td>\n",
       "      <td>1.10</td>\n",
       "      <td>32</td>\n",
       "    </tr>\n",
       "    <tr>\n",
       "      <th>638</th>\n",
       "      <td>7</td>\n",
       "      <td>97.0</td>\n",
       "      <td>76.0</td>\n",
       "      <td>32.0</td>\n",
       "      <td>91.0</td>\n",
       "      <td>40.9</td>\n",
       "      <td>0.87</td>\n",
       "      <td>32</td>\n",
       "    </tr>\n",
       "    <tr>\n",
       "      <th>621</th>\n",
       "      <td>2</td>\n",
       "      <td>92.0</td>\n",
       "      <td>76.0</td>\n",
       "      <td>20.0</td>\n",
       "      <td>154.8</td>\n",
       "      <td>24.2</td>\n",
       "      <td>1.70</td>\n",
       "      <td>28</td>\n",
       "    </tr>\n",
       "  </tbody>\n",
       "</table>\n",
       "</div>"
      ],
      "text/plain": [
       "     Pregnancies  Glucose  BloodPressure  SkinThickness  Insulin   BMI  \\\n",
       "424            8    151.0           78.0           32.0    210.0  42.9   \n",
       "282            7    133.0           88.0           15.0    155.0  32.4   \n",
       "747            1     81.0           74.0           41.0     57.0  46.3   \n",
       "638            7     97.0           76.0           32.0     91.0  40.9   \n",
       "621            2     92.0           76.0           20.0    154.8  24.2   \n",
       "\n",
       "     DiabetesPedigreeFunction  Age  \n",
       "424                      0.52   36  \n",
       "282                      0.26   37  \n",
       "747                      1.10   32  \n",
       "638                      0.87   32  \n",
       "621                      1.70   28  "
      ]
     },
     "execution_count": 14,
     "metadata": {},
     "output_type": "execute_result"
    }
   ],
   "source": [
    "X_train.head()"
   ]
  },
  {
   "cell_type": "code",
   "execution_count": 15,
   "metadata": {},
   "outputs": [],
   "source": [
    "#selecting only the numeric columns for normalization\n",
    "numeric_columns = ['Pregnancies', 'Glucose', 'BloodPressure', 'SkinThickness', \n",
    "                   'Insulin', 'BMI', 'DiabetesPedigreeFunction', 'Age']\n",
    "\n",
    "#normalize the numeric features\n",
    "scaler = StandardScaler()\n",
    "scaler.fit(X_train[numeric_columns])\n",
    "\n",
    "X_train[numeric_columns] = scaler.transform(X_train[numeric_columns]) #scale the training data"
   ]
  },
  {
   "cell_type": "code",
   "execution_count": 16,
   "metadata": {},
   "outputs": [
    {
     "data": {
      "text/html": [
       "<div>\n",
       "<style scoped>\n",
       "    .dataframe tbody tr th:only-of-type {\n",
       "        vertical-align: middle;\n",
       "    }\n",
       "\n",
       "    .dataframe tbody tr th {\n",
       "        vertical-align: top;\n",
       "    }\n",
       "\n",
       "    .dataframe thead th {\n",
       "        text-align: right;\n",
       "    }\n",
       "</style>\n",
       "<table border=\"1\" class=\"dataframe\">\n",
       "  <thead>\n",
       "    <tr style=\"text-align: right;\">\n",
       "      <th></th>\n",
       "      <th>Pregnancies</th>\n",
       "      <th>Glucose</th>\n",
       "      <th>BloodPressure</th>\n",
       "      <th>SkinThickness</th>\n",
       "      <th>Insulin</th>\n",
       "      <th>BMI</th>\n",
       "      <th>DiabetesPedigreeFunction</th>\n",
       "      <th>Age</th>\n",
       "    </tr>\n",
       "  </thead>\n",
       "  <tbody>\n",
       "    <tr>\n",
       "      <th>424</th>\n",
       "      <td>1.187727</td>\n",
       "      <td>0.957059</td>\n",
       "      <td>0.473177</td>\n",
       "      <td>0.283824</td>\n",
       "      <td>0.607418</td>\n",
       "      <td>1.528351</td>\n",
       "      <td>0.088974</td>\n",
       "      <td>0.240589</td>\n",
       "    </tr>\n",
       "    <tr>\n",
       "      <th>282</th>\n",
       "      <td>0.895556</td>\n",
       "      <td>0.366735</td>\n",
       "      <td>1.335727</td>\n",
       "      <td>-1.635911</td>\n",
       "      <td>0.013030</td>\n",
       "      <td>-0.055419</td>\n",
       "      <td>-0.646961</td>\n",
       "      <td>0.327943</td>\n",
       "    </tr>\n",
       "    <tr>\n",
       "      <th>747</th>\n",
       "      <td>-0.857470</td>\n",
       "      <td>-1.338645</td>\n",
       "      <td>0.128157</td>\n",
       "      <td>1.300154</td>\n",
       "      <td>-1.046061</td>\n",
       "      <td>2.041190</td>\n",
       "      <td>1.730676</td>\n",
       "      <td>-0.108826</td>\n",
       "    </tr>\n",
       "    <tr>\n",
       "      <th>638</th>\n",
       "      <td>0.895556</td>\n",
       "      <td>-0.813913</td>\n",
       "      <td>0.300667</td>\n",
       "      <td>0.283824</td>\n",
       "      <td>-0.678621</td>\n",
       "      <td>1.226680</td>\n",
       "      <td>1.079656</td>\n",
       "      <td>-0.108826</td>\n",
       "    </tr>\n",
       "    <tr>\n",
       "      <th>621</th>\n",
       "      <td>-0.565299</td>\n",
       "      <td>-0.977892</td>\n",
       "      <td>0.300667</td>\n",
       "      <td>-1.071283</td>\n",
       "      <td>0.010869</td>\n",
       "      <td>-1.292268</td>\n",
       "      <td>3.428987</td>\n",
       "      <td>-0.458242</td>\n",
       "    </tr>\n",
       "    <tr>\n",
       "      <th>392</th>\n",
       "      <td>-0.857470</td>\n",
       "      <td>0.301143</td>\n",
       "      <td>-0.734393</td>\n",
       "      <td>-1.748837</td>\n",
       "      <td>2.822865</td>\n",
       "      <td>-1.367686</td>\n",
       "      <td>-0.278993</td>\n",
       "      <td>-1.069720</td>\n",
       "    </tr>\n",
       "    <tr>\n",
       "      <th>468</th>\n",
       "      <td>1.187727</td>\n",
       "      <td>-0.059610</td>\n",
       "      <td>-0.009404</td>\n",
       "      <td>-0.037628</td>\n",
       "      <td>0.018955</td>\n",
       "      <td>-0.417424</td>\n",
       "      <td>-0.873402</td>\n",
       "      <td>0.415297</td>\n",
       "    </tr>\n",
       "    <tr>\n",
       "      <th>42</th>\n",
       "      <td>0.895556</td>\n",
       "      <td>-0.518751</td>\n",
       "      <td>1.680747</td>\n",
       "      <td>-1.297134</td>\n",
       "      <td>-0.566228</td>\n",
       "      <td>-1.518521</td>\n",
       "      <td>-0.703571</td>\n",
       "      <td>1.288836</td>\n",
       "    </tr>\n",
       "    <tr>\n",
       "      <th>232</th>\n",
       "      <td>-0.857470</td>\n",
       "      <td>-1.404237</td>\n",
       "      <td>0.645687</td>\n",
       "      <td>-0.506655</td>\n",
       "      <td>-1.262202</td>\n",
       "      <td>-1.111266</td>\n",
       "      <td>0.258805</td>\n",
       "      <td>-0.982366</td>\n",
       "    </tr>\n",
       "    <tr>\n",
       "      <th>744</th>\n",
       "      <td>2.648581</td>\n",
       "      <td>1.022650</td>\n",
       "      <td>1.335727</td>\n",
       "      <td>0.848452</td>\n",
       "      <td>-0.149076</td>\n",
       "      <td>1.181430</td>\n",
       "      <td>1.928812</td>\n",
       "      <td>0.502651</td>\n",
       "    </tr>\n",
       "  </tbody>\n",
       "</table>\n",
       "</div>"
      ],
      "text/plain": [
       "     Pregnancies   Glucose  BloodPressure  SkinThickness   Insulin       BMI  \\\n",
       "424     1.187727  0.957059       0.473177       0.283824  0.607418  1.528351   \n",
       "282     0.895556  0.366735       1.335727      -1.635911  0.013030 -0.055419   \n",
       "747    -0.857470 -1.338645       0.128157       1.300154 -1.046061  2.041190   \n",
       "638     0.895556 -0.813913       0.300667       0.283824 -0.678621  1.226680   \n",
       "621    -0.565299 -0.977892       0.300667      -1.071283  0.010869 -1.292268   \n",
       "392    -0.857470  0.301143      -0.734393      -1.748837  2.822865 -1.367686   \n",
       "468     1.187727 -0.059610      -0.009404      -0.037628  0.018955 -0.417424   \n",
       "42      0.895556 -0.518751       1.680747      -1.297134 -0.566228 -1.518521   \n",
       "232    -0.857470 -1.404237       0.645687      -0.506655 -1.262202 -1.111266   \n",
       "744     2.648581  1.022650       1.335727       0.848452 -0.149076  1.181430   \n",
       "\n",
       "     DiabetesPedigreeFunction       Age  \n",
       "424                  0.088974  0.240589  \n",
       "282                 -0.646961  0.327943  \n",
       "747                  1.730676 -0.108826  \n",
       "638                  1.079656 -0.108826  \n",
       "621                  3.428987 -0.458242  \n",
       "392                 -0.278993 -1.069720  \n",
       "468                 -0.873402  0.415297  \n",
       "42                  -0.703571  1.288836  \n",
       "232                  0.258805 -0.982366  \n",
       "744                  1.928812  0.502651  "
      ]
     },
     "execution_count": 16,
     "metadata": {},
     "output_type": "execute_result"
    }
   ],
   "source": [
    "#view the prepared data\n",
    "X_train.head(10)"
   ]
  },
  {
   "cell_type": "markdown",
   "metadata": {},
   "source": [
    "## Part 5:\n",
    "Building, training, and evaluating a model that predicts the target variable"
   ]
  },
  {
   "cell_type": "code",
   "execution_count": 17,
   "metadata": {},
   "outputs": [
    {
     "data": {
      "text/html": [
       "<style>#sk-container-id-1 {color: black;}#sk-container-id-1 pre{padding: 0;}#sk-container-id-1 div.sk-toggleable {background-color: white;}#sk-container-id-1 label.sk-toggleable__label {cursor: pointer;display: block;width: 100%;margin-bottom: 0;padding: 0.3em;box-sizing: border-box;text-align: center;}#sk-container-id-1 label.sk-toggleable__label-arrow:before {content: \"▸\";float: left;margin-right: 0.25em;color: #696969;}#sk-container-id-1 label.sk-toggleable__label-arrow:hover:before {color: black;}#sk-container-id-1 div.sk-estimator:hover label.sk-toggleable__label-arrow:before {color: black;}#sk-container-id-1 div.sk-toggleable__content {max-height: 0;max-width: 0;overflow: hidden;text-align: left;background-color: #f0f8ff;}#sk-container-id-1 div.sk-toggleable__content pre {margin: 0.2em;color: black;border-radius: 0.25em;background-color: #f0f8ff;}#sk-container-id-1 input.sk-toggleable__control:checked~div.sk-toggleable__content {max-height: 200px;max-width: 100%;overflow: auto;}#sk-container-id-1 input.sk-toggleable__control:checked~label.sk-toggleable__label-arrow:before {content: \"▾\";}#sk-container-id-1 div.sk-estimator input.sk-toggleable__control:checked~label.sk-toggleable__label {background-color: #d4ebff;}#sk-container-id-1 div.sk-label input.sk-toggleable__control:checked~label.sk-toggleable__label {background-color: #d4ebff;}#sk-container-id-1 input.sk-hidden--visually {border: 0;clip: rect(1px 1px 1px 1px);clip: rect(1px, 1px, 1px, 1px);height: 1px;margin: -1px;overflow: hidden;padding: 0;position: absolute;width: 1px;}#sk-container-id-1 div.sk-estimator {font-family: monospace;background-color: #f0f8ff;border: 1px dotted black;border-radius: 0.25em;box-sizing: border-box;margin-bottom: 0.5em;}#sk-container-id-1 div.sk-estimator:hover {background-color: #d4ebff;}#sk-container-id-1 div.sk-parallel-item::after {content: \"\";width: 100%;border-bottom: 1px solid gray;flex-grow: 1;}#sk-container-id-1 div.sk-label:hover label.sk-toggleable__label {background-color: #d4ebff;}#sk-container-id-1 div.sk-serial::before {content: \"\";position: absolute;border-left: 1px solid gray;box-sizing: border-box;top: 0;bottom: 0;left: 50%;z-index: 0;}#sk-container-id-1 div.sk-serial {display: flex;flex-direction: column;align-items: center;background-color: white;padding-right: 0.2em;padding-left: 0.2em;position: relative;}#sk-container-id-1 div.sk-item {position: relative;z-index: 1;}#sk-container-id-1 div.sk-parallel {display: flex;align-items: stretch;justify-content: center;background-color: white;position: relative;}#sk-container-id-1 div.sk-item::before, #sk-container-id-1 div.sk-parallel-item::before {content: \"\";position: absolute;border-left: 1px solid gray;box-sizing: border-box;top: 0;bottom: 0;left: 50%;z-index: -1;}#sk-container-id-1 div.sk-parallel-item {display: flex;flex-direction: column;z-index: 1;position: relative;background-color: white;}#sk-container-id-1 div.sk-parallel-item:first-child::after {align-self: flex-end;width: 50%;}#sk-container-id-1 div.sk-parallel-item:last-child::after {align-self: flex-start;width: 50%;}#sk-container-id-1 div.sk-parallel-item:only-child::after {width: 0;}#sk-container-id-1 div.sk-dashed-wrapped {border: 1px dashed gray;margin: 0 0.4em 0.5em 0.4em;box-sizing: border-box;padding-bottom: 0.4em;background-color: white;}#sk-container-id-1 div.sk-label label {font-family: monospace;font-weight: bold;display: inline-block;line-height: 1.2em;}#sk-container-id-1 div.sk-label-container {text-align: center;}#sk-container-id-1 div.sk-container {/* jupyter's `normalize.less` sets `[hidden] { display: none; }` but bootstrap.min.css set `[hidden] { display: none !important; }` so we also need the `!important` here to be able to override the default hidden behavior on the sphinx rendered scikit-learn.org. See: https://github.com/scikit-learn/scikit-learn/issues/21755 */display: inline-block !important;position: relative;}#sk-container-id-1 div.sk-text-repr-fallback {display: none;}</style><div id=\"sk-container-id-1\" class=\"sk-top-container\"><div class=\"sk-text-repr-fallback\"><pre>SVC()</pre><b>In a Jupyter environment, please rerun this cell to show the HTML representation or trust the notebook. <br />On GitHub, the HTML representation is unable to render, please try loading this page with nbviewer.org.</b></div><div class=\"sk-container\" hidden><div class=\"sk-item\"><div class=\"sk-estimator sk-toggleable\"><input class=\"sk-toggleable__control sk-hidden--visually\" id=\"sk-estimator-id-1\" type=\"checkbox\" checked><label for=\"sk-estimator-id-1\" class=\"sk-toggleable__label sk-toggleable__label-arrow\">SVC</label><div class=\"sk-toggleable__content\"><pre>SVC()</pre></div></div></div></div></div>"
      ],
      "text/plain": [
       "SVC()"
      ]
     },
     "execution_count": 17,
     "metadata": {},
     "output_type": "execute_result"
    }
   ],
   "source": [
    "#instantiate the classifier\n",
    "svm = SVC()\n",
    "svm.fit(X_train, y_train) #fit the data"
   ]
  },
  {
   "cell_type": "code",
   "execution_count": 18,
   "metadata": {
    "scrolled": true
   },
   "outputs": [
    {
     "name": "stdout",
     "output_type": "stream",
     "text": [
      "The predicted BMI is: [0 0 0 1 1 1 0 0 0 0 0 0 0 1 0 1 0 1 0 0 0 0 1 0 0 0 0 1 0 1 0 0 0 0 0 0 0\n",
      " 0 0 0 1 0 0 1 0 0 1 1 0 0 0 1 0 0 0 0 0 0 0 1 0 0 1 1 0 0 1 0 0 0 0 0 0 0\n",
      " 0 0 0 0 0 1 0 1 0 0 0 0 0 0 1 0 1 1 0 0 0 0 1 0 0 0 0 0 1 0 1 0 0 1 1 0 1\n",
      " 1 0 0 0 0 0 0 0 0 0 0 0 1 0 0 0 1 0 1 1 0 0 0 1 0 0 0 0 1 0 0 0 0 1 0 0 0\n",
      " 0 1 0 0 0 1 0 0 0 0 1 0 1 0 0 1 0 1 1 0 0 0 1 0 0 0 1 0 1 0 1 1 1 0 0 1 0\n",
      " 0 0 0 0 0 1 1 0 0 0 1 1 0 0 0 1 0 1 0 1 0 1 0 0 1 0 0 0 1 0 1 1 0 0 0 0 0\n",
      " 0 0 0 0 1 0 0 0 0]\n"
     ]
    }
   ],
   "source": [
    "#encode & scale the new/test data\n",
    "X_test[numeric_columns] = scaler.transform(X_test[numeric_columns]) #scale the test data\n",
    "\n",
    "#predict the labels for the test set\n",
    "y_pred   = svm.predict(X_test)\n",
    "\n",
    "print('The predicted BMI is: {}'.format(y_pred))"
   ]
  },
  {
   "cell_type": "code",
   "execution_count": 19,
   "metadata": {},
   "outputs": [
    {
     "name": "stdout",
     "output_type": "stream",
     "text": [
      "The accuracy of the model is: 0.7445887445887446\n"
     ]
    }
   ],
   "source": [
    "#evaluate the prediction accuracy\n",
    "print('The accuracy of the model is: {}'.format(svm.score(X_test, y_test)))"
   ]
  },
  {
   "cell_type": "code",
   "execution_count": 20,
   "metadata": {},
   "outputs": [
    {
     "name": "stdout",
     "output_type": "stream",
     "text": [
      "              precision    recall  f1-score   support\n",
      "\n",
      " No Diabetes       0.77      0.86      0.81       150\n",
      "    Diabetes       0.67      0.53      0.59        81\n",
      "\n",
      "    accuracy                           0.74       231\n",
      "   macro avg       0.72      0.70      0.70       231\n",
      "weighted avg       0.74      0.74      0.74       231\n",
      "\n"
     ]
    }
   ],
   "source": [
    "#get the classification report\n",
    "target_names = ['No Diabetes','Diabetes']\n",
    "print(classification_report(y_test, y_pred, target_names = target_names))"
   ]
  },
  {
   "cell_type": "markdown",
   "metadata": {},
   "source": [
    "#### Hyperparameter Tuning"
   ]
  },
  {
   "cell_type": "code",
   "execution_count": 21,
   "metadata": {},
   "outputs": [
    {
     "name": "stdout",
     "output_type": "stream",
     "text": [
      "Best Parameters: {'C': 0.1, 'gamma': 0.1, 'kernel': 'linear'}\n",
      "Best Score: 0.7710107303565247\n"
     ]
    }
   ],
   "source": [
    "#define the hyperparameters grid for tuning\n",
    "param_grid = {\n",
    "    'C': [0.1, 1, 10],\n",
    "    'kernel': ['linear', 'rbf'],\n",
    "    'gamma': [0.1, 1, 'scale', 'auto']\n",
    "}\n",
    "\n",
    "#instantiate GridSearchCV\n",
    "svm_grid = GridSearchCV(estimator=svm, param_grid=param_grid, cv=5)\n",
    "\n",
    "#fit the grid search to the data\n",
    "svm_grid.fit(X_train, y_train)\n",
    "\n",
    "#best parameters and best score\n",
    "best_params = svm_grid.best_params_\n",
    "best_score = svm_grid.best_score_\n",
    "\n",
    "#print the best parameters and best score\n",
    "print(\"Best Parameters:\", best_params)\n",
    "print(\"Best Score:\", best_score)\n"
   ]
  },
  {
   "cell_type": "markdown",
   "metadata": {},
   "source": [
    "## Part 6:\n",
    "Evaluating the scores from GridSearchCV for the training set and the test set to diagnose any bias-variance problems"
   ]
  },
  {
   "cell_type": "code",
   "execution_count": 22,
   "metadata": {},
   "outputs": [
    {
     "name": "stdout",
     "output_type": "stream",
     "text": [
      "Index(['mean_fit_time', 'std_fit_time', 'mean_score_time', 'std_score_time',\n",
      "       'param_C', 'param_gamma', 'param_kernel', 'params', 'split0_test_score',\n",
      "       'split1_test_score', 'split2_test_score', 'split3_test_score',\n",
      "       'split4_test_score', 'mean_test_score', 'std_test_score',\n",
      "       'rank_test_score'],\n",
      "      dtype='object')\n"
     ]
    }
   ],
   "source": [
    "cv_results = pd.DataFrame(svm_grid.cv_results_)\n",
    "print(cv_results.columns)\n"
   ]
  },
  {
   "cell_type": "code",
   "execution_count": 23,
   "metadata": {},
   "outputs": [
    {
     "data": {
      "text/html": [
       "<div>\n",
       "<style scoped>\n",
       "    .dataframe tbody tr th:only-of-type {\n",
       "        vertical-align: middle;\n",
       "    }\n",
       "\n",
       "    .dataframe tbody tr th {\n",
       "        vertical-align: top;\n",
       "    }\n",
       "\n",
       "    .dataframe thead th {\n",
       "        text-align: right;\n",
       "    }\n",
       "</style>\n",
       "<table border=\"1\" class=\"dataframe\">\n",
       "  <thead>\n",
       "    <tr style=\"text-align: right;\">\n",
       "      <th></th>\n",
       "      <th>mean_test_score</th>\n",
       "      <th>std_test_score</th>\n",
       "      <th>param_C</th>\n",
       "      <th>param_gamma</th>\n",
       "      <th>param_kernel</th>\n",
       "      <th>params</th>\n",
       "      <th>rank_test_score</th>\n",
       "    </tr>\n",
       "  </thead>\n",
       "  <tbody>\n",
       "    <tr>\n",
       "      <th>0</th>\n",
       "      <td>0.771011</td>\n",
       "      <td>0.036274</td>\n",
       "      <td>0.1</td>\n",
       "      <td>0.1</td>\n",
       "      <td>linear</td>\n",
       "      <td>{'C': 0.1, 'gamma': 0.1, 'kernel': 'linear'}</td>\n",
       "      <td>1</td>\n",
       "    </tr>\n",
       "    <tr>\n",
       "      <th>2</th>\n",
       "      <td>0.771011</td>\n",
       "      <td>0.036274</td>\n",
       "      <td>0.1</td>\n",
       "      <td>1</td>\n",
       "      <td>linear</td>\n",
       "      <td>{'C': 0.1, 'gamma': 1, 'kernel': 'linear'}</td>\n",
       "      <td>1</td>\n",
       "    </tr>\n",
       "    <tr>\n",
       "      <th>4</th>\n",
       "      <td>0.771011</td>\n",
       "      <td>0.036274</td>\n",
       "      <td>0.1</td>\n",
       "      <td>scale</td>\n",
       "      <td>linear</td>\n",
       "      <td>{'C': 0.1, 'gamma': 'scale', 'kernel': 'linear'}</td>\n",
       "      <td>1</td>\n",
       "    </tr>\n",
       "    <tr>\n",
       "      <th>6</th>\n",
       "      <td>0.771011</td>\n",
       "      <td>0.036274</td>\n",
       "      <td>0.1</td>\n",
       "      <td>auto</td>\n",
       "      <td>linear</td>\n",
       "      <td>{'C': 0.1, 'gamma': 'auto', 'kernel': 'linear'}</td>\n",
       "      <td>1</td>\n",
       "    </tr>\n",
       "    <tr>\n",
       "      <th>22</th>\n",
       "      <td>0.769176</td>\n",
       "      <td>0.044241</td>\n",
       "      <td>10</td>\n",
       "      <td>auto</td>\n",
       "      <td>linear</td>\n",
       "      <td>{'C': 10, 'gamma': 'auto', 'kernel': 'linear'}</td>\n",
       "      <td>5</td>\n",
       "    </tr>\n",
       "  </tbody>\n",
       "</table>\n",
       "</div>"
      ],
      "text/plain": [
       "    mean_test_score  std_test_score param_C param_gamma param_kernel  \\\n",
       "0          0.771011        0.036274     0.1         0.1       linear   \n",
       "2          0.771011        0.036274     0.1           1       linear   \n",
       "4          0.771011        0.036274     0.1       scale       linear   \n",
       "6          0.771011        0.036274     0.1        auto       linear   \n",
       "22         0.769176        0.044241      10        auto       linear   \n",
       "\n",
       "                                              params  rank_test_score  \n",
       "0       {'C': 0.1, 'gamma': 0.1, 'kernel': 'linear'}                1  \n",
       "2         {'C': 0.1, 'gamma': 1, 'kernel': 'linear'}                1  \n",
       "4   {'C': 0.1, 'gamma': 'scale', 'kernel': 'linear'}                1  \n",
       "6    {'C': 0.1, 'gamma': 'auto', 'kernel': 'linear'}                1  \n",
       "22    {'C': 10, 'gamma': 'auto', 'kernel': 'linear'}                5  "
      ]
     },
     "execution_count": 23,
     "metadata": {},
     "output_type": "execute_result"
    }
   ],
   "source": [
    "#display the cv results for the train and test set\n",
    "cv_results = pd.DataFrame(svm_grid.cv_results_)\n",
    "cv_results = cv_results.sort_values('mean_test_score', ascending=False)\n",
    "selected_columns = ['mean_test_score', 'std_test_score', 'param_C', 'param_gamma', 'param_kernel', 'params', 'rank_test_score']\n",
    "cv_results[selected_columns].head()"
   ]
  },
  {
   "cell_type": "markdown",
   "metadata": {},
   "source": [
    "The mean test scores range from approximately 0.769 to 0.771, indicating consistency in model performance across different hyperparameter configurations.\n",
    "\n",
    "The standard deviations of the test scores are relatively low, suggesting consistency in the model's performance across folds during cross-validation for each configuration.\n",
    "\n",
    "The model appears to be performing consistently well across different hyperparameter settings under the linear kernel.\n",
    "\n",
    "The model's performance seems relatively stable, but its suitability for medical applications depends on various factors beyond accuracy alone. Trade-offs between sensitivity, specificity, and the real-world impact on patient outcomes should be considered."
   ]
  },
  {
   "cell_type": "code",
   "execution_count": null,
   "metadata": {},
   "outputs": [],
   "source": []
  }
 ],
 "metadata": {
  "kernelspec": {
   "display_name": "Python 3 (ipykernel)",
   "language": "python",
   "name": "python3"
  },
  "language_info": {
   "codemirror_mode": {
    "name": "ipython",
    "version": 3
   },
   "file_extension": ".py",
   "mimetype": "text/x-python",
   "name": "python",
   "nbconvert_exporter": "python",
   "pygments_lexer": "ipython3",
   "version": "3.11.4"
  }
 },
 "nbformat": 4,
 "nbformat_minor": 4
}
